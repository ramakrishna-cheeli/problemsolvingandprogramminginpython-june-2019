{
 "cells": [
  {
   "cell_type": "code",
   "execution_count": 7,
   "metadata": {},
   "outputs": [
    {
     "data": {
      "text/plain": [
       "'A b c d'"
      ]
     },
     "execution_count": 7,
     "metadata": {},
     "output_type": "execute_result"
    }
   ],
   "source": [
    "s = \"Abcd\"\n",
    "s.islower() #check the case of a character\n",
    "s.isupper()\n",
    "\n",
    "s.lower() # convert a character to lower case\n",
    "\n",
    "s.upper() # convert a character to upper case\n",
    "\n",
    "s = list(s)\n",
    "\n",
    "\" \".join(s)"
   ]
  },
  {
   "cell_type": "code",
   "execution_count": 12,
   "metadata": {},
   "outputs": [
    {
     "data": {
      "text/plain": [
       "'aBCDEf'"
      ]
     },
     "execution_count": 12,
     "metadata": {},
     "output_type": "execute_result"
    }
   ],
   "source": [
    "# Function to toggle string characters\n",
    "\n",
    "\n",
    "def toggleString(s):\n",
    "    # convert the string into list of characters\n",
    "    #s = list(s)\n",
    "    ns = []\n",
    "    for c in s:\n",
    "        if c.islower():\n",
    "            ns.append(c.upper())\n",
    "        else:\n",
    "            ns.append(c.lower())\n",
    "    return \"\".join(ns)\n",
    "toggleString(\"AbcdeF\")\n",
    "        "
   ]
  },
  {
   "cell_type": "code",
   "execution_count": null,
   "metadata": {},
   "outputs": [],
   "source": []
  },
  {
   "cell_type": "markdown",
   "metadata": {},
   "source": [
    "### Problem : Duration\n",
    "\n",
    "\n",
    "**Input:** start time, end time (HH MM) <br>\n",
    "       HH - {00, 23}  <br>\n",
    "       MM - {00, 59}  <br>\n",
    "       HH MM - {00 00, 23 59}  <br>\n",
    "**Output:** time difference in HH MM\n",
    "       \n",
    "\n",
    "\n"
   ]
  },
  {
   "cell_type": "code",
   "execution_count": 14,
   "metadata": {},
   "outputs": [
    {
     "name": "stdout",
     "output_type": "stream",
     "text": [
      "5 59\n"
     ]
    }
   ],
   "source": [
    "# calculate the time difference as total number of minutes\n",
    "# convert the total minutes into HH MM\n",
    "\n",
    "s = \"2 42 8 41\"\n",
    "def minuteDifference(s):\n",
    "    s = s.split()\n",
    "    sh = int(s[0])\n",
    "    sm = int(s[1])\n",
    "    eh = int(s[2])\n",
    "    em = int(s[3])\n",
    "    startminutes = (sh * 60) + sm\n",
    "    endminutes = (eh * 60) + em\n",
    "    return endminutes-startminutes\n",
    "def outputTimeFormat(minutes):\n",
    "    #convert minutes to HH MM\n",
    "    hh = minutes // 60\n",
    "    mm = minutes % 60\n",
    "    print(hh, mm)\n",
    "    return \n",
    "minutes = minuteDifference(s)\n",
    "outputTimeFormat(minutes)"
   ]
  },
  {
   "cell_type": "markdown",
   "metadata": {},
   "source": [
    "### Play with Numbers\n",
    "\n",
    "Line 1 : array size, no fo queries(q)\n",
    "Line 2 : n array elements\n",
    "next q lines : query - sub array of the original \n",
    "\n",
    "5 2 \n",
    "1 2 3  4 5\n",
    "1 2\n",
    "0 5 "
   ]
  },
  {
   "cell_type": "code",
   "execution_count": 32,
   "metadata": {},
   "outputs": [
    {
     "name": "stdout",
     "output_type": "stream",
     "text": [
      "ah38a&msdf7\n",
      "7 3\n"
     ]
    }
   ],
   "source": [
    "def noDigitsLetters(s):\n",
    "    count = 0\n",
    "    a = 0\n",
    "    for i in s:\n",
    "        if i.isalpha():\n",
    "            count=count+1\n",
    "        elif i.isdigit():\n",
    "            a = a+1\n",
    "        else:\n",
    "            pass\n",
    "    print(count,a)\n",
    "    return\n",
    "noDigitsLetters(input())"
   ]
  },
  {
   "cell_type": "code",
   "execution_count": 26,
   "metadata": {},
   "outputs": [
    {
     "name": "stdout",
     "output_type": "stream",
     "text": [
      "15\n",
      "8\n"
     ]
    }
   ],
   "source": [
    "n=int(input())\n",
    "li = []\n",
    "for i in range(1,n):\n",
    "    r = n%i\n",
    "    #print(r)\n",
    "    li.append(r)\n",
    "#print(li)\n",
    "    b=li.index(max(li))\n",
    "#print(b+1)\n",
    "if li.count(b)>1:\n",
    "    print(li.index(min(li)))\n",
    "else:\n",
    "    print(li.index(max(li))+1)"
   ]
  },
  {
   "cell_type": "code",
   "execution_count": 25,
   "metadata": {},
   "outputs": [
    {
     "name": "stdout",
     "output_type": "stream",
     "text": [
      "1\n"
     ]
    }
   ],
   "source": [
    "l=[1,2,3,4,5,6,7,8]\n",
    "#print(l[len(sort())])\n",
    "print(l.count(1))"
   ]
  },
  {
   "cell_type": "code",
   "execution_count": 28,
   "metadata": {},
   "outputs": [
    {
     "name": "stdout",
     "output_type": "stream",
     "text": [
      "3\n",
      "23\n",
      "NO\n"
     ]
    }
   ],
   "source": [
    "#perfectnumber\n",
    "def perfectNumber(p):\n",
    "    n= int(input())\n",
    "    sum = 0\n",
    "    for i in range(1,n):\n",
    "        if n % i==0:\n",
    "            sum = sum + i\n",
    "    if sum == n:\n",
    "        print(\"YES\")\n",
    "    else:\n",
    "        print(\"NO\")\n",
    "    return\n",
    "p=int(input())\n",
    "perfectNumber(p)"
   ]
  },
  {
   "cell_type": "markdown",
   "metadata": {},
   "source": []
  },
  {
   "cell_type": "code",
   "execution_count": null,
   "metadata": {},
   "outputs": [],
   "source": []
  }
 ],
 "metadata": {
  "kernelspec": {
   "display_name": "Python 3",
   "language": "python",
   "name": "python3"
  },
  "language_info": {
   "codemirror_mode": {
    "name": "ipython",
    "version": 3
   },
   "file_extension": ".py",
   "mimetype": "text/x-python",
   "name": "python",
   "nbconvert_exporter": "python",
   "pygments_lexer": "ipython3",
   "version": "3.7.3"
  }
 },
 "nbformat": 4,
 "nbformat_minor": 2
}
