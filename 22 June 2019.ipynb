{
 "cells": [
  {
   "cell_type": "markdown",
   "metadata": {},
   "source": [
    "### Date : 22 June 2019\n",
    "\n",
    "### Day Objectives\n",
    "- File Handling\n",
    "    - Basic File Data Processing\n",
    "        - Accessing and Modifying File Data\n",
    "    - Character Count\n",
    "    - Line Count\n",
    "    - File Size\n",
    "    - Word Count\n",
    "    - Unique Word Count"
   ]
  },
  {
   "cell_type": "code",
   "execution_count": null,
   "metadata": {},
   "outputs": [],
   "source": []
  },
  {
   "cell_type": "code",
   "execution_count": 10,
   "metadata": {},
   "outputs": [
    {
     "name": "stdout",
     "output_type": "stream",
     "text": [
      "hello world\n",
      "Line 1\n",
      "Line 2\n",
      "Line 3\n",
      "Line 4\n"
     ]
    }
   ],
   "source": [
    "# Read a file - File should exist(Read Mode)\n",
    "# Write to a file - Existing(append) or New File(Write Mode)\n",
    "def readFile(filepath):\n",
    "    with open(filepath,'r') as f:\n",
    "        filedata = f.read()\n",
    "    return filedata\n",
    "\n",
    "filepath = 'DataFiles/data.txt'\n",
    "print(readFile(filepath))\n",
    "    \n"
   ]
  },
  {
   "cell_type": "code",
   "execution_count": null,
   "metadata": {},
   "outputs": [],
   "source": []
  },
  {
   "cell_type": "code",
   "execution_count": 32,
   "metadata": {},
   "outputs": [
    {
     "name": "stdout",
     "output_type": "stream",
     "text": [
      "46\n",
      "6\n",
      "35\n"
     ]
    }
   ],
   "source": [
    "def charCount(file):\n",
    "    with open(file,'r') as f:\n",
    "        char=f.read()\n",
    "        count=0\n",
    "        lines=1\n",
    "        words=0\n",
    "        for i in char:\n",
    "            count=count+len(i)\n",
    "            if i == \"\\n\":\n",
    "                lines+=1\n",
    "            wrd = i.split()\n",
    "            words+=len(wrd)\n",
    "                \n",
    "        print(count)\n",
    "        print(lines)\n",
    "        print(words)\n",
    "    return\n",
    "file = 'DataFiles/data.txt'\n",
    "charCount(file)\n"
   ]
  },
  {
   "cell_type": "code",
   "execution_count": 41,
   "metadata": {},
   "outputs": [
    {
     "name": "stdout",
     "output_type": "stream",
     "text": [
      "12\n"
     ]
    }
   ],
   "source": [
    "    with open('DataFiles/data.txt','r') as f:\n",
    "        #fword=f.read()\n",
    "        words=0\n",
    "        for i in f:\n",
    "            wrd = i.split()\n",
    "            #print(wrd)\n",
    "            words+=len(wrd)\n",
    "        print(words)\n",
    "            \n"
   ]
  },
  {
   "cell_type": "code",
   "execution_count": 34,
   "metadata": {},
   "outputs": [
    {
     "name": "stdout",
     "output_type": "stream",
     "text": [
      "46\n"
     ]
    }
   ],
   "source": [
    "import os\n",
    "siz = os.path.getsize('DataFiles/data.txt')\n",
    "print((siz))"
   ]
  },
  {
   "cell_type": "code",
   "execution_count": 31,
   "metadata": {},
   "outputs": [
    {
     "name": "stdout",
     "output_type": "stream",
     "text": [
      "1401601499\n",
      "Legal ISBN\n"
     ]
    }
   ],
   "source": [
    "n=input()\n",
    "def bookPotion(n):\n",
    "    sum = 0\n",
    "    if len(n)==10:\n",
    "        for i in range(0,len(n)):\n",
    "            p = int(n[i])\n",
    "            sum+=p*(i+1)\n",
    "            #print(sum)\n",
    "        if sum % 11 == 0:\n",
    "            print(\"Legal ISBN\")\n",
    "        else:\n",
    "            print(\"Illegal ISBN\")\n",
    "    else:\n",
    "        print(\"Illegal ISBN1\")\n",
    "    return\n",
    "bookPotion(n)\n",
    "        "
   ]
  },
  {
   "cell_type": "code",
   "execution_count": 42,
   "metadata": {},
   "outputs": [
    {
     "name": "stdout",
     "output_type": "stream",
     "text": [
      "hello was found 1 times\n",
      "world was found 1 times\n",
      "Line was found 5 times\n",
      "1 was found 1 times\n",
      "2 was found 1 times\n",
      "3 was found 1 times\n",
      "4 was found 1 times\n",
      "5 was found 1 times\n"
     ]
    }
   ],
   "source": [
    "#unique word\n",
    "count = {}\n",
    "for w in open('DataFiles/data.txt').read().split():\n",
    "    if w in count:\n",
    "        count[w] += 1\n",
    "    else:\n",
    "        count[w] = 1\n",
    "for word, times in count.items():\n",
    "    print (\"%s was found %d times\" % (word, times))"
   ]
  },
  {
   "cell_type": "code",
   "execution_count": null,
   "metadata": {},
   "outputs": [],
   "source": []
  },
  {
   "cell_type": "code",
   "execution_count": null,
   "metadata": {},
   "outputs": [],
   "source": []
  },
  {
   "cell_type": "code",
   "execution_count": null,
   "metadata": {},
   "outputs": [],
   "source": []
  },
  {
   "cell_type": "code",
   "execution_count": null,
   "metadata": {},
   "outputs": [],
   "source": []
  }
 ],
 "metadata": {
  "kernelspec": {
   "display_name": "Python 3",
   "language": "python",
   "name": "python3"
  },
  "language_info": {
   "codemirror_mode": {
    "name": "ipython",
    "version": 3
   },
   "file_extension": ".py",
   "mimetype": "text/x-python",
   "name": "python",
   "nbconvert_exporter": "python",
   "pygments_lexer": "ipython3",
   "version": "3.7.3"
  }
 },
 "nbformat": 4,
 "nbformat_minor": 2
}
