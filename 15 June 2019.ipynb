{
 "cells": [
  {
   "cell_type": "code",
   "execution_count": 13,
   "metadata": {},
   "outputs": [
    {
     "data": {
      "text/plain": [
       "True"
      ]
     },
     "execution_count": 13,
     "metadata": {},
     "output_type": "execute_result"
    }
   ],
   "source": [
    "# Prime\n",
    "def prime(n):\n",
    "    flag= True\n",
    "    for i in range(2,n//2):\n",
    "        if n%i==0:\n",
    "            flag = False\n",
    "    return flag\n",
    "            \n",
    "prime(n)"
   ]
  },
  {
   "cell_type": "code",
   "execution_count": null,
   "metadata": {},
   "outputs": [],
   "source": [
    "# prime\n",
    "def primeNumbers(n):\n",
    "    for i in range(2,n//2):\n",
    "        if n %i == 0:\n",
    "            print(\"not a prime\")\n",
    "        else:\n",
    "            print(i,\"is a prime\")\n",
    "    return\n",
    "        \n",
    "primeNumbers(int(input()))"
   ]
  },
  {
   "cell_type": "code",
   "execution_count": 7,
   "metadata": {},
   "outputs": [
    {
     "name": "stdout",
     "output_type": "stream",
     "text": [
      "2\n",
      "aba aba\n",
      "YES\n",
      "sumith tumish\n",
      "YES\n"
     ]
    }
   ],
   "source": [
    "# Two Strings\n",
    "N = int(input())\n",
    "for i in range(N):\n",
    "    s = [list(i) for i in input().split()]\n",
    "    if sorted(s[0]) == sorted(s[1]):\n",
    "        print(\"YES\")\n",
    "    else:\n",
    "        print(\"NO\")\n",
    "    "
   ]
  },
  {
   "cell_type": "code",
   "execution_count": 4,
   "metadata": {},
   "outputs": [
    {
     "name": "stdout",
     "output_type": "stream",
     "text": [
      "asd\n",
      "24\n"
     ]
    }
   ],
   "source": [
    "# charsum\n",
    "def charSum(s):\n",
    "    sum = 0\n",
    "    for i in s:\n",
    "        sum=sum+ord(i)-96\n",
    "    print(sum)\n",
    "s = input()\n",
    "charSum(s)"
   ]
  },
  {
   "cell_type": "code",
   "execution_count": 1,
   "metadata": {},
   "outputs": [
    {
     "name": "stdout",
     "output_type": "stream",
     "text": [
      "2\n",
      "1 44 2 56\n",
      "1 12\n",
      "2 30 4 50\n",
      "2 20\n"
     ]
    }
   ],
   "source": [
    "# Duration\n",
    "def numberofWorks(n):\n",
    "    for i in range(1,n+1):\n",
    "        SH,SM,EH,EM = input().split()\n",
    "        if (60-int(SM)+int(EM))>=60:\n",
    "            print((int(EH)-int(SH)-1)+1,end=\" \")\n",
    "            print((60-int(SM)+int(EM))-60)\n",
    "        else:\n",
    "            print(int(EH)-int(SH)-1,end=\" \")\n",
    "            print((60-int(SM)+int(EM)))\n",
    "n = int(input())\n",
    "numberofWorks(n)"
   ]
  },
  {
   "cell_type": "code",
   "execution_count": null,
   "metadata": {},
   "outputs": [],
   "source": [
    "# Play with numbers\n",
    "n = input().split()\n",
    "n[0], n[1] = int(n[0]), int(n[1])\n",
    "\n",
    "# read array elements\n",
    "a = input().split()\n",
    "sum = []  # initialize cummulative sum array\n",
    "\n",
    "\n",
    "# Cummulative sum\n",
    "for i in range(0, n[0]):\n",
    "    if i == 0:\n",
    "        sum.append(int(a[i]))\n",
    "    else:\n",
    "        sum.append(int(sum[i-1]) + int(a[i]))\n",
    "del a\n",
    "# read each query and calculate the average\n",
    "q = []\n",
    "for k in range(0, n[1]):\n",
    "    inq = input().split()\n",
    "    \n",
    "    i = int(inq[0])\n",
    "    j = int(inq[1])\n",
    "    if i > 1:\n",
    "        print(sum[j-1]  - sum[i-2])  // (j-i+1)\n",
    "    else:\n",
    "        print(sum[j-1] // (j-i+1))\n",
    "        "
   ]
  },
  {
   "cell_type": "code",
   "execution_count": 1,
   "metadata": {},
   "outputs": [
    {
     "name": "stdout",
     "output_type": "stream",
     "text": [
      "10 2 3\n",
      "0\n"
     ]
    }
   ],
   "source": [
    "#Count Divisors\n",
    "def countDivisors(i,j,k):\n",
    "    count=0\n",
    "    for p in range(i,j+1):\n",
    "        if p%k==0:\n",
    "            count=count+1\n",
    "    print(count)\n",
    "i,j,k=input().split()\n",
    "countDivisors(int(i),int(j),int(k))"
   ]
  },
  {
   "cell_type": "code",
   "execution_count": null,
   "metadata": {},
   "outputs": [],
   "source": [
    "# Factorial\n",
    "def factorial(n):\n",
    "    f=1\n",
    "    for i in range(1,n+1):\n",
    "        f=f*i\n",
    "    print(f)\n",
    "factorial(int(input()))"
   ]
  },
  {
   "cell_type": "code",
   "execution_count": null,
   "metadata": {},
   "outputs": [],
   "source": [
    "# toggle string\n",
    "def toggleString(s):\n",
    "    p=[]\n",
    "    for i in range(0,len(s)):\n",
    "        if s[i].islower():\n",
    "            print(s[i].upper(),end=\"\")\n",
    "            #p.append(s[i].upper())\n",
    "        else:\n",
    "            print(s[i].lower(),end=\"\")\n",
    "            #(s[i].lower())\n",
    "toggleString(input())"
   ]
  },
  {
   "cell_type": "code",
   "execution_count": 2,
   "metadata": {},
   "outputs": [
    {
     "name": "stdout",
     "output_type": "stream",
     "text": [
      "aba\n",
      "YES\n"
     ]
    }
   ],
   "source": [
    "def Palindrome(s):\n",
    "    if s[::-1] == s:\n",
    "        print(\"YES\")\n",
    "    else:\n",
    "        print(\"NO\")\n",
    "Palindrome(input())"
   ]
  },
  {
   "cell_type": "code",
   "execution_count": null,
   "metadata": {},
   "outputs": [],
   "source": []
  },
  {
   "cell_type": "code",
   "execution_count": null,
   "metadata": {},
   "outputs": [],
   "source": []
  }
 ],
 "metadata": {
  "kernelspec": {
   "display_name": "Python 3",
   "language": "python",
   "name": "python3"
  },
  "language_info": {
   "codemirror_mode": {
    "name": "ipython",
    "version": 3
   },
   "file_extension": ".py",
   "mimetype": "text/x-python",
   "name": "python",
   "nbconvert_exporter": "python",
   "pygments_lexer": "ipython3",
   "version": "3.7.3"
  }
 },
 "nbformat": 4,
 "nbformat_minor": 2
}
