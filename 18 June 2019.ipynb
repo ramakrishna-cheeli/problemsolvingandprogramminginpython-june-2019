{
 "cells": [
  {
   "cell_type": "code",
   "execution_count": null,
   "metadata": {},
   "outputs": [],
   "source": [
    "# Play with numbers\n",
    "n = input().split()\n",
    "n[0], n[1] = int(n[0]), int(n[1])\n",
    "\n",
    "# read array elements\n",
    "a = input().split()\n",
    "sum = []  # initialize cummulative sum array\n",
    "\n",
    "\n",
    "# Cummulative sum\n",
    "for i in range(0, n[0]):\n",
    "    if i == 0:\n",
    "        sum.append(int(a[i]))\n",
    "    else:\n",
    "        sum.append(int(sum[i-1]) + int(a[i]))\n",
    "del a\n",
    "# read each query and calculate the average\n",
    "q = []\n",
    "for k in range(0, n[1]):\n",
    "    inq = input().split()\n",
    "    \n",
    "    i = int(inq[0])\n",
    "    j = int(inq[1])\n",
    "    if i > 1:\n",
    "        print(sum[j-1]  - sum[i-2])  // (j-i+1)\n",
    "    else:\n",
    "        print(sum[j-1] // (j-i+1))\n",
    "        "
   ]
  },
  {
   "cell_type": "code",
   "execution_count": null,
   "metadata": {},
   "outputs": [],
   "source": []
  },
  {
   "cell_type": "markdown",
   "metadata": {},
   "source": [
    "### Problem : Special Number\n",
    "- A special number is defined as a number which has at least P distinct prime factors.\n",
    "- write a program to determine whether a number N is a special number.\n",
    "\n",
    "**Input format**\n",
    "\n",
    "- First line: P\n",
    "- Second line: T (number of test cases)\n",
    "- Next T lines: N\n",
    "**Output format**\n",
    "\n",
    " -For each test case, print YES or NO depending on the result.'"
   ]
  },
  {
   "cell_type": "code",
   "execution_count": null,
   "metadata": {},
   "outputs": [],
   "source": [
    "#function to determine to check if a number is special number\n",
    "def isSpecialNumber(n,p):\n",
    "    if numberPrimeFactors(n)>=p:\n",
    "        return True\n",
    "    return False\n",
    "    \n",
    "    \n",
    "# Function to check if number is prime\n",
    "\n",
    "def isPrime(n):\n",
    "    flag = 1\n",
    "    if n == 2:\n",
    "        return True\n",
    "    for i in range(2,n//2+1):\n",
    "        if n%i == 0:\n",
    "            flag = 0\n",
    "            return False\n",
    "    if flag == 1:\n",
    "        return True\n",
    "\n",
    "def numberPrimeFactors(n):\n",
    "    if isPrime(n):\n",
    "        return 1\n",
    "    count = 0\n",
    "    for i in range(2,n//2+1):\n",
    "        if isPrime(i) and n%i == 0:\n",
    "            count+=1\n",
    "    return\n",
    "numberPrimeFactors(30)\n",
    "        \n",
    "\n",
    "        \n",
    "        "
   ]
  },
  {
   "cell_type": "code",
   "execution_count": null,
   "metadata": {},
   "outputs": [],
   "source": [
    "P=int(input())\n",
    "T=int(input())\n",
    "for i in range(T):\n",
    "    N=int(input())\n",
    "    count2=0\n",
    "    for j in range(1,N+1):\n",
    "        if(N%j==0):\n",
    "            count=0\n",
    "            for k in range(1,j+1):\n",
    "                if j%k==0:\n",
    "                    count=count+1\n",
    "            if count==2:\n",
    "                count2=count2+1\n",
    "    if P==count2:\n",
    "        print(\"YES\")\n",
    "    else:\n",
    "        print(\"NO\")"
   ]
  },
  {
   "cell_type": "markdown",
   "metadata": {},
   "source": [
    "### Problem: Highest Remainder\n",
    "\n",
    "\n",
    "- N\n",
    "- highest = 0\n",
    "- X < N and N % X == highest \n",
    "\n",
    "\n",
    "\n",
    "\n"
   ]
  },
  {
   "cell_type": "code",
   "execution_count": null,
   "metadata": {},
   "outputs": [],
   "source": [
    "def highestRemainder(n):\n",
    "    hr = 0\n",
    "    v = n\n",
    "    for i in range(n-1,n//2,-1):\n",
    "        r = n % i\n",
    "        if r > hr:\n",
    "            hr  = r\n",
    "            v = i\n",
    "    print(v)\n",
    "    return\n",
    "highestRemainder(6)"
   ]
  },
  {
   "cell_type": "code",
   "execution_count": null,
   "metadata": {},
   "outputs": [],
   "source": []
  },
  {
   "cell_type": "markdown",
   "metadata": {},
   "source": [
    "### Tuples\n",
    "\n",
    "- t1 = ()\n",
    "- li = []\n",
    "\n",
    "\n",
    "- Difference between lists and tuples\n",
    "    - lists are mutable - can be changed/modified\n",
    "        - used to access modify, add, delete data\n",
    "    - tuples are immutable - cannot be changed once initialised\n",
    "        - used to access data only\n",
    "        - All Slicing work"
   ]
  },
  {
   "cell_type": "code",
   "execution_count": null,
   "metadata": {},
   "outputs": [],
   "source": [
    "t1 = (1,2,3,4,6)\n",
    "\n",
    "t1[3] # Accessing the fourth element\n",
    "\n",
    "#Access all elements from middle to last\n",
    "t1[2:]\n",
    "t1[len(t1)//2:]"
   ]
  },
  {
   "cell_type": "code",
   "execution_count": null,
   "metadata": {},
   "outputs": [],
   "source": []
  },
  {
   "cell_type": "markdown",
   "metadata": {},
   "source": [
    "### Dictionaries\n",
    "\n",
    "- It works on the concept of set\n",
    "- Unique data\n",
    "\n",
    "- Keys, Values\n",
    "- Key is the unique identifier for a value\n",
    "- Value is the data that can be accessed with a key\n",
    "\n",
    "\n"
   ]
  },
  {
   "cell_type": "code",
   "execution_count": null,
   "metadata": {},
   "outputs": [],
   "source": [
    "d1 = {\"k1\":\"value1\",\"k2\":\"value2\"}\n",
    "\n",
    "d1[\"k2\"]  # Accessing value with key \"k2\"\n",
    "\n",
    "d1.keys()  # returns list of all keys\n",
    "\n",
    "d1.values() # returns list of all values\n",
    "d1.items()  # returns list of tuples of keys and values\n",
    "\n",
    "d1[\"k3\"] = \"value3\" # Adding an element to the dictionary\n",
    "d1[\"k3\"] = \"value4\" # updating an element\n",
    "d1.pop(\"k3\") # Removing an element\n",
    "\"k2\" in d1 # Search for an item in dictionary "
   ]
  },
  {
   "cell_type": "markdown",
   "metadata": {},
   "source": [
    "### Contacts Application\n",
    "- Add Contacts\n",
    "- Search for contacts\n",
    "- List of all contacts\n",
    "    - name1 : phone1\n",
    "    - name2 : phone2\n",
    "-  Modify contacts\n",
    "- Remove contacts\n",
    "- Import contacts\n"
   ]
  },
  {
   "cell_type": "code",
   "execution_count": null,
   "metadata": {},
   "outputs": [],
   "source": [
    "contacts = {}\n",
    "def addContact(name,phone):\n",
    "    # Verify that the contact already exist in the dictionary\n",
    "    if name not in contacts:\n",
    "        contacts[name] = phone\n",
    "        print(\"contact %s added\" % name)\n",
    "    else:\n",
    "        print(\"contact %s already exists\" % name)\n",
    "    return\n",
    "\n",
    "addContact(\"name1\",\"123456789\")"
   ]
  },
  {
   "cell_type": "code",
   "execution_count": null,
   "metadata": {},
   "outputs": [],
   "source": [
    "def searchContacts(name):\n",
    "    if name in contacts:\n",
    "        print(name,\":\",contacts[name])\n",
    "    else:\n",
    "        print(\"%s does not exist\" % name)\n",
    "    return\n",
    "searchContacts(\"name1\")"
   ]
  },
  {
   "cell_type": "code",
   "execution_count": null,
   "metadata": {},
   "outputs": [],
   "source": [
    "def allContacts(name):\n",
    "    if name in contacts:\n",
    "        print(name,\":\",contacts[name])\n",
    "        \n",
    "    else:\n",
    "        print(\"not found\")\n",
    "    return\n",
    "allContacts(\"name1\")"
   ]
  },
  {
   "cell_type": "code",
   "execution_count": null,
   "metadata": {},
   "outputs": [],
   "source": []
  },
  {
   "cell_type": "code",
   "execution_count": null,
   "metadata": {},
   "outputs": [],
   "source": [
    "# New contacts is given as dictionary\n",
    "# Merge new contacts with existing contacts\n",
    "def importContacts(newContacts):\n",
    "    contacts.update(newContacts)\n",
    "    print(len(newContacts.keys()), \"contacts added successfully\")\n",
    "    return\n",
    "newContacts = {\"name2\":987654321, \"name3\":654321789}\n",
    "importContacts(newContacts)"
   ]
  },
  {
   "cell_type": "code",
   "execution_count": null,
   "metadata": {},
   "outputs": [],
   "source": [
    "#def remContacts(name):\n",
    " #   if name in newContacts:\n",
    " #       #del contacts[\"name1\"]\n",
    " #       print(\"after deleting contacts\",newContacts)\n",
    " #   else:\n",
    "       # print(\"not found\")\n",
    " #   returnabc\n",
    "#name = newContacts.pop(\"name3\")\n",
    "#remContacts(name)\n",
    "newContacts"
   ]
  },
  {
   "cell_type": "code",
   "execution_count": null,
   "metadata": {},
   "outputs": [],
   "source": [
    "contacts1={\"abc\":\"12345\"}\n",
    "def modifContacts(abc1):\n",
    "    if abc1 in contacts:\n",
    "        contacts1[abc1]=\"xyz\"\n",
    "        print(\"%s is modified as xyz\",% abc1)\n",
    "    else:\n",
    "        print(\"%s is not found in contacts\",%abc1)\n",
    "    return\n",
    "modifContacts(\"abc1\")"
   ]
  },
  {
   "cell_type": "markdown",
   "metadata": {},
   "source": [
    "### Packages and Modules\n",
    "\n",
    "\n",
    "**Package**-> collection of modules(Python file.py) \n",
    "\n",
    "**Sub Packages**\n",
    "\n",
    "**Module->** -> A single python file containing functions\n",
    "- Package -> Subpackages -> Modules -> Functions"
   ]
  },
  {
   "cell_type": "code",
   "execution_count": 2,
   "metadata": {},
   "outputs": [
    {
     "data": {
      "text/plain": [
       "1234"
      ]
     },
     "execution_count": 2,
     "metadata": {},
     "output_type": "execute_result"
    }
   ],
   "source": [
    "#import math\n",
    "\n",
    "#math.floor(123.456)\n",
    "\n",
    "#math.sqrt(123.001)\n",
    "\n",
    "#math.pi\n",
    "\n",
    "from math import floor as f1\n",
    "f1(1234.09876)\n",
    "\n",
    "#math.pi"
   ]
  },
  {
   "cell_type": "code",
   "execution_count": 19,
   "metadata": {},
   "outputs": [
    {
     "name": "stdout",
     "output_type": "stream",
     "text": [
      "95 93 6 36 26 73 71 71 78 61 "
     ]
    }
   ],
   "source": [
    "# Function to generate n random numbers\n",
    "\n",
    "import random\n",
    "def generateNRandomNumbers(n, lb, ub):\n",
    "    for i in range(0,n):\n",
    "        print(random.randint(lb,ub), end=\" \") \n",
    "        \n",
    "    return\n",
    "generateNRandomNumbers(10,0,100)\n",
    "    "
   ]
  },
  {
   "cell_type": "code",
   "execution_count": null,
   "metadata": {},
   "outputs": [],
   "source": []
  },
  {
   "cell_type": "code",
   "execution_count": 1,
   "metadata": {},
   "outputs": [
    {
     "name": "stdout",
     "output_type": "stream",
     "text": [
      "2\n"
     ]
    }
   ],
   "source": [
    "from Packages import numerical\n",
    "\n",
    "numerical.primeNumbers(2)"
   ]
  },
  {
   "cell_type": "code",
   "execution_count": null,
   "metadata": {},
   "outputs": [],
   "source": []
  },
  {
   "cell_type": "code",
   "execution_count": null,
   "metadata": {},
   "outputs": [],
   "source": []
  },
  {
   "cell_type": "code",
   "execution_count": null,
   "metadata": {},
   "outputs": [],
   "source": []
  }
 ],
 "metadata": {
  "kernelspec": {
   "display_name": "Python 3",
   "language": "python",
   "name": "python3"
  },
  "language_info": {
   "codemirror_mode": {
    "name": "ipython",
    "version": 3
   },
   "file_extension": ".py",
   "mimetype": "text/x-python",
   "name": "python",
   "nbconvert_exporter": "python",
   "pygments_lexer": "ipython3",
   "version": "3.7.3"
  }
 },
 "nbformat": 4,
 "nbformat_minor": 2
}
