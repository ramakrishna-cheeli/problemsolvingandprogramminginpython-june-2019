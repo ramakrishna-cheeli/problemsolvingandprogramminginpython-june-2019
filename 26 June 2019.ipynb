{
 "cells": [
  {
   "cell_type": "code",
   "execution_count": 10,
   "metadata": {},
   "outputs": [
    {
     "data": {
      "text/plain": [
       "-1"
      ]
     },
     "execution_count": 10,
     "metadata": {},
     "output_type": "execute_result"
    }
   ],
   "source": [
    "'''# kth Largest\n",
    "# Largest number in a list\n",
    "# Second largest number in a list\n",
    "# kth largest number in a list\n",
    "\n",
    "# Element with highest frequency\n",
    "# Second Highest Frequency\n",
    "# kth highest frequency'''\n",
    "\n",
    "# Function to find the second largest number in a list\n",
    "\n",
    "def secondLargest(li):\n",
    "    # Convert the list into a unique list\n",
    "    # order(n)\n",
    "    unique = []\n",
    "    for n in li:\n",
    "        if n not in unique:\n",
    "            unique.append(n)\n",
    "            \n",
    "    unique = sorted(unique, reverse=True)\n",
    "    if len(unique)>1:\n",
    "        return unique[1]\n",
    "    else:\n",
    "        return -1\n",
    "    return unique[1]\n",
    "secondLargest([1])\n",
    "\n",
    "\n",
    "#def fifthLeast\n",
    "\n",
    "#def kLargest(li)\n",
    "\n",
    "#def kSmallest(li)\n",
    "\n",
    "\n"
   ]
  },
  {
   "cell_type": "code",
   "execution_count": 6,
   "metadata": {},
   "outputs": [
    {
     "data": {
      "text/plain": [
       "5"
      ]
     },
     "execution_count": 6,
     "metadata": {},
     "output_type": "execute_result"
    }
   ],
   "source": [
    "# FifthLeast\n",
    "def fifthLeast(li):\n",
    "    unique = []\n",
    "    for n in li:\n",
    "        if n not in unique:\n",
    "            unique.append(n)\n",
    "            \n",
    "    unique = sorted(unique)\n",
    "    return unique[4]\n",
    "fifthLeast([1,2,3,4,5,6,7,8])"
   ]
  },
  {
   "cell_type": "code",
   "execution_count": 2,
   "metadata": {},
   "outputs": [
    {
     "data": {
      "text/plain": [
       "1"
      ]
     },
     "execution_count": 2,
     "metadata": {},
     "output_type": "execute_result"
    }
   ],
   "source": [
    "#k th Largest\n",
    "def kLargest(li,k):\n",
    "    unique = []\n",
    "    for n in li:\n",
    "        if n not in unique:\n",
    "            unique.append(n)\n",
    "            \n",
    "        unique = sorted(unique, reverse=True)\n",
    "    if len(unique)>1:\n",
    "        return unique[k-1]\n",
    "    else:\n",
    "        return -1\n",
    "    \n",
    "    return\n",
    "\n",
    "kLargest([1,1,2,3,4,5,6,7],7)\n"
   ]
  },
  {
   "cell_type": "code",
   "execution_count": 1,
   "metadata": {},
   "outputs": [
    {
     "name": "stdout",
     "output_type": "stream",
     "text": [
      "[1, 2, 3, 4, 56]\n"
     ]
    },
    {
     "data": {
      "text/plain": [
       "2"
      ]
     },
     "execution_count": 1,
     "metadata": {},
     "output_type": "execute_result"
    }
   ],
   "source": [
    "# kth smallest\n",
    "def kSmallest(li,k):\n",
    "    # Extract unique elements in the list\n",
    "    unique = []\n",
    "    for n in li:\n",
    "        if n not in unique:\n",
    "            unique.append(n)\n",
    "    \n",
    "    #Sort the unique list in ascendinding order         \n",
    "        unique = sorted(unique)\n",
    "    print(unique)\n",
    "    # check if length of unique list is greater than or equal to k\n",
    "    if k<=len(unique):\n",
    "        return unique[k-1]\n",
    "    else:\n",
    "        return -1\n",
    "    \n",
    "    return\n",
    "\n",
    "kSmallest([1,2,3,3,4,56,2,2],2)\n"
   ]
  },
  {
   "cell_type": "code",
   "execution_count": 3,
   "metadata": {},
   "outputs": [
    {
     "data": {
      "text/plain": [
       "0"
      ]
     },
     "execution_count": 3,
     "metadata": {},
     "output_type": "execute_result"
    }
   ],
   "source": [
    "# Function to identify the element with highest frequency\n",
    "#if many elements have the highest frequency, returns the smallest\n",
    "# highestFreqElement([1,2,3,9,8,7,3,4,2,1])\n",
    "def highestFreqElement(li):\n",
    "    freq = {}\n",
    "    for i in li:\n",
    "        if i not in freq:\n",
    "            freq[i]= 1\n",
    "        else:\n",
    "            freq[i] += 1\n",
    "    #freq = {1:2,2:2,3:2,4:1,7:1,8:1,9:1} \n",
    "    \n",
    "    # Getting all frequencies into a list\n",
    "    l = freq.values()\n",
    "    maxfreq = max(l)\n",
    "    # Extract all keys with maxfreq in a list\n",
    "    maxFreq = []\n",
    "   # Identify the smallest number with maximum frequency \n",
    "    for item in freq.items():\n",
    "        #item --> (key,value)\n",
    "        # item[1]\n",
    "        if item[1]==maxfreq:\n",
    "            maxFreq.append(item[0])\n",
    "        # Select the minimum from the keys with maximum frequency          \n",
    "    return min(maxFreq)\n",
    "\n",
    "highestFreqElement([1,2,3,9,8,7,3,4,2,1,0,0])    \n"
   ]
  },
  {
   "cell_type": "code",
   "execution_count": 24,
   "metadata": {},
   "outputs": [
    {
     "name": "stdout",
     "output_type": "stream",
     "text": [
      "[3, 2]\n"
     ]
    },
    {
     "data": {
      "text/plain": [
       "1"
      ]
     },
     "execution_count": 24,
     "metadata": {},
     "output_type": "execute_result"
    }
   ],
   "source": [
    "# Function to identify second highest frequency element. \n",
    "# If there are many such elements, return the smallest.\n",
    "# [1,2,3,2,1,4,4,9]\n",
    "\n",
    "def secondHighest(li):\n",
    "    freq = {}\n",
    "    for i in li:\n",
    "        if i not in freq:\n",
    "            freq[i]= 1\n",
    "        else:\n",
    "            freq[i] += 1\n",
    "    \n",
    "    \n",
    "\n",
    "    x=[]\n",
    "    vq=[]\n",
    "    for item in freq.items():\n",
    "        x.append(item[1]) \n",
    "    for n in x:\n",
    "        if n not in vq:\n",
    "            vq.append(n)\n",
    "    vq=sorted(vq,reverse=True)\n",
    "    print(vq)\n",
    "    kl=[]\n",
    "    if 2<=len(vq):\n",
    "        for item in freq.items():\n",
    "            if item[1]==vq[1]:\n",
    "                kl.append(item[0])\n",
    "        return min(kl)\n",
    "    else:\n",
    "        return -1\n",
    "    \n",
    "secondHighest([1,1,2,3,2,3,4,5,4,5,3])  "
   ]
  },
  {
   "cell_type": "code",
   "execution_count": null,
   "metadata": {},
   "outputs": [],
   "source": []
  },
  {
   "cell_type": "code",
   "execution_count": 29,
   "metadata": {},
   "outputs": [
    {
     "name": "stdout",
     "output_type": "stream",
     "text": [
      "s\n",
      "g\n",
      "h\n",
      "e\n",
      "w\n",
      "r\n",
      "n\n",
      "k\n",
      "-1\n",
      "-1\n"
     ]
    }
   ],
   "source": [
    "#kthLargest\n",
    "def kthighFrequency(li,k):\n",
    "    unique = {}\n",
    "    for n in li:\n",
    "        if n in unique:\n",
    "            unique[n]+=1\n",
    "        else:\n",
    "            unique[n]=1\n",
    "    x=[]\n",
    "    vq=[]\n",
    "    for item in unique.items():\n",
    "        x.append(item[1]) \n",
    "    for n in x:\n",
    "        if n not in vq:\n",
    "            vq.append(n)\n",
    "    vq=sorted(vq,reverse=True)\n",
    "    #print(vq)\n",
    "    kl=[]\n",
    "    if k<=len(vq):\n",
    "        for item in unique.items():\n",
    "            if item[1]==vq[k-1]:\n",
    "                kl.append(item[0])\n",
    "        return min(kl)\n",
    "    else:\n",
    "        return -1\n",
    "#     #print       \n",
    "# kthighFrequency([1,2,3,2,1,4,4,4,0,0,0,0,0],2)\n",
    "with open(\"k-largest-frequency-input.txt\",\"r\") as f:\n",
    "    t= int(f.readline())\n",
    "    for i in range(t):\n",
    "        li=f.readline().strip()\n",
    "        k=int(f.readline())\n",
    "        print(kthighFrequency(li,k))"
   ]
  },
  {
   "cell_type": "code",
   "execution_count": 26,
   "metadata": {},
   "outputs": [
    {
     "name": "stdout",
     "output_type": "stream",
     "text": [
      "[1, 2, 3, 5]\n"
     ]
    },
    {
     "data": {
      "text/plain": [
       "4"
      ]
     },
     "execution_count": 26,
     "metadata": {},
     "output_type": "execute_result"
    }
   ],
   "source": [
    "#kth Smallest\n",
    "def kthsmallFrequency(li,k):\n",
    "    unique = {}\n",
    "    for n in li:\n",
    "        if n in unique:\n",
    "            unique[n]+=1\n",
    "        else:\n",
    "            unique[n]=1\n",
    "    x=[]\n",
    "    vq=[]\n",
    "    for item in unique.items():\n",
    "        x.append(item[1]) \n",
    "    for n in x:\n",
    "        if n not in vq:\n",
    "            vq.append(n)\n",
    "    vq=sorted(vq)\n",
    "    print(vq)\n",
    "    kl=[]\n",
    "    if k<=len(vq):\n",
    "        for item in unique.items():\n",
    "            if item[1]==vq[k-1]:\n",
    "                kl.append(item[0])\n",
    "        return min(kl)\n",
    "    else:\n",
    "        return -1\n",
    "kthsmallFrequency([1,2,3,2,1,4,4,4,0,0,0,0,0],3)"
   ]
  },
  {
   "cell_type": "code",
   "execution_count": null,
   "metadata": {},
   "outputs": [],
   "source": []
  },
  {
   "cell_type": "code",
   "execution_count": null,
   "metadata": {},
   "outputs": [],
   "source": []
  },
  {
   "cell_type": "code",
   "execution_count": null,
   "metadata": {},
   "outputs": [],
   "source": []
  },
  {
   "cell_type": "code",
   "execution_count": null,
   "metadata": {},
   "outputs": [],
   "source": []
  }
 ],
 "metadata": {
  "kernelspec": {
   "display_name": "Python 3",
   "language": "python",
   "name": "python3"
  },
  "language_info": {
   "codemirror_mode": {
    "name": "ipython",
    "version": 3
   },
   "file_extension": ".py",
   "mimetype": "text/x-python",
   "name": "python",
   "nbconvert_exporter": "python",
   "pygments_lexer": "ipython3",
   "version": "3.7.3"
  }
 },
 "nbformat": 4,
 "nbformat_minor": 2
}
