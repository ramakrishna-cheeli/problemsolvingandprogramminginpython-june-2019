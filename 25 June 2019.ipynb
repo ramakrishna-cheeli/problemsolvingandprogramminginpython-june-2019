{
 "cells": [
  {
   "cell_type": "code",
   "execution_count": 1,
   "metadata": {},
   "outputs": [],
   "source": [
    "# Find and replace Application\n",
    "    # Count the total number of occurances of a word\n",
    "    # If word is existing \n",
    "    # Replace all occurances of word with another word\n",
    "    \n",
    "def findReplace():\n",
    "    with open('DataFiles/FindandReplace.txt','w') as f:\n",
    "        file = \"This is python progrmming in jupyter notebook\"\n",
    "        f.write(file)\n",
    "        \n",
    "    return\n",
    "findReplace()\n",
    "        "
   ]
  },
  {
   "cell_type": "code",
   "execution_count": 3,
   "metadata": {},
   "outputs": [
    {
     "data": {
      "text/plain": [
       "['This', 'is', 'python', 'progrmming', 'in', 'jupyter', 'notebook']"
      ]
     },
     "execution_count": 3,
     "metadata": {},
     "output_type": "execute_result"
    }
   ],
   "source": [
    "def readFile(filename):\n",
    "    with open(filename,'r') as f:\n",
    "        filedata = f.read().split()\n",
    "    return filedata\n",
    "filename = 'DataFiles/FindandReplace.txt'\n",
    "readFile(filename)"
   ]
  },
  {
   "cell_type": "code",
   "execution_count": 8,
   "metadata": {},
   "outputs": [
    {
     "name": "stdout",
     "output_type": "stream",
     "text": [
      "['This', 'is', 'python', 'progrmming', 'in', 'jupyter', 'notebook']\n",
      "This : 1 is : 1 python : 1 progrmming : 1 in : 1 jupyter : 1 notebook : 1 "
     ]
    }
   ],
   "source": [
    "def totalOccurances(filename):\n",
    "    occur = []\n",
    "    li = readFile(filename)\n",
    "    for word in li:\n",
    "        if word not in occur:\n",
    "            occur.append(word)\n",
    "    #print(li)\n",
    "    print(occur)\n",
    "    for oword in occur:\n",
    "        if oword in li:\n",
    "            cnt=li.count(oword)\n",
    "        print(oword,\":\",cnt,end=\" \")\n",
    "    return\n",
    "\n",
    "totalOccurances(filename)\n",
    "        \n",
    "    "
   ]
  },
  {
   "cell_type": "code",
   "execution_count": 9,
   "metadata": {},
   "outputs": [
    {
     "name": "stdout",
     "output_type": "stream",
     "text": [
      "python\n",
      "['This', 'is', 'java', 'progrmming', 'in', 'jupyter', 'notebook']\n"
     ]
    }
   ],
   "source": [
    "def wordReplace(filename,strng):\n",
    "    li = readFile(filename)\n",
    "    for i in range (len(li)):\n",
    "        if li[i]==strng:\n",
    "            li[i] = \"java\"\n",
    "            \n",
    "            \n",
    "    print(li)\n",
    "    \n",
    "strng = input()\n",
    "wordReplace(filename,strng)"
   ]
  },
  {
   "cell_type": "code",
   "execution_count": 17,
   "metadata": {},
   "outputs": [
    {
     "data": {
      "text/plain": [
       "104"
      ]
     },
     "execution_count": 17,
     "metadata": {},
     "output_type": "execute_result"
    }
   ],
   "source": [
    "# Function to check if two string are Anagrams\n",
    "# abc  cba ---> True\n",
    "#{a:1,b:1, c:1} {c:1,b:1,a:1}\n",
    "# abc abc\n",
    "# aabbcc ccbbaaa ---> False\n",
    "# aabbcc aaabbcc\n",
    "# {a:2,b:2,c:2} {a:3,b:2,c:2}\n",
    "def checkAnagrams(s1,s2):\n",
    "    if len(s1) != len(s2):\n",
    "        return False\n",
    "    if sorted(s1) == sorted(s2):\n",
    "        return True\n",
    "    return False\n",
    "#checkAnagrams('abc','aba')\n",
    " \n",
    "    \n",
    "def charDeletionAnagrams(s1,s2):\n",
    "    # to collect all uncommon characters - characters occuring in only \n",
    "    uncommon = []\n",
    "    for i in s1:\n",
    "        if i not in s2:\n",
    "            uncommon.append(i)\n",
    "    for i in s2:\n",
    "        if i not in s1:\n",
    "            uncommon.append(i)\n",
    "    count = len(uncommon)\n",
    "    # Frequency of common characters in s1 and s2\n",
    "    freqs1 = {}\n",
    "    freqs2 = {}\n",
    "    # Unique characters in s1 and s2\n",
    "    uniqs1 = []\n",
    "    uniqs2 = []\n",
    "    # Frequency of common unique characters in s1\n",
    "    for i in s1:\n",
    "        if i not in uncommon and i not in uniqs1:\n",
    "            freqs1[i] = s1.count(i)\n",
    "            uniqs1.append(i)\n",
    "     #Frequency of common unique characters in s2   \n",
    "    for i in s2:\n",
    "        if i not in uncommon and i not in uniqs2:\n",
    "            freqs2[i] = s2.count(i)\n",
    "            uniqs2.append(i)\n",
    "    # difference in frequencies of common characters \n",
    "    for key in freqs1.keys():\n",
    "        count+=abs(freqs1[key]-freqs2[key])\n",
    "    return count\n",
    "\n",
    "charDeletionAnagrams('aaaaaaaaaaaaaaaaaaaaaaaaaaaaa','bbbbbbbbbbbbbbbbbbbbbbbbbbbbbbbbbbbbbbbbbbbbbbbbbbbbbbbbbbbbbbbbbbbbbbbbbbb')           \n",
    "            "
   ]
  },
  {
   "cell_type": "code",
   "execution_count": 20,
   "metadata": {},
   "outputs": [
    {
     "data": {
      "text/plain": [
       "62228"
      ]
     },
     "execution_count": 20,
     "metadata": {},
     "output_type": "execute_result"
    }
   ],
   "source": [
    "# Problem1\n",
    "# Average with in a given range\n",
    "\n",
    "def average(lb,ub):\n",
    "    sum = 0\n",
    "    for i in range(lb,ub+1):\n",
    "        sum+=i\n",
    "        \n",
    "    count = ub-lb+1\n",
    "    return sum//count\n",
    "average(1000,123456)"
   ]
  },
  {
   "cell_type": "code",
   "execution_count": 43,
   "metadata": {},
   "outputs": [
    {
     "data": {
      "text/plain": [
       "'c'"
      ]
     },
     "execution_count": 43,
     "metadata": {},
     "output_type": "execute_result"
    }
   ],
   "source": [
    "# kth Largest Frequency \n",
    "\n",
    "def kLargestFrequency(s,k):\n",
    "    #Construct the frequency dictionary for all unique characters\n",
    "    unique = []\n",
    "    freq = {}\n",
    "    for i in s:\n",
    "        if i not in freq.keys():\n",
    "            freq[i] = s.count(i)\n",
    "     # Extract unique frequencies in descending order       \n",
    "    values = sorted(freq.values(),reverse=True)\n",
    "    #print(freq,values)\n",
    "    uniqueValues = list(set(values))\n",
    "    uniqueValues = sorted(uniqueValues,reverse =True)\n",
    "    # Identify kth largest frequency\n",
    "    if k <= len(uniqueValues):\n",
    "        kvalue = uniqueValues[k-1]\n",
    "    else:\n",
    "        return -1\n",
    "    # Get all elements with kth largest frequency\n",
    "    li = []\n",
    "    for item in freq.items():\n",
    "        if item[1] == kvalue:\n",
    "            li.append(item[0])\n",
    "    # minimum of kth largest frequency\n",
    "    return min(li)\n",
    "    \n",
    "kLargestFrequency ('aabcdccdd',1)  "
   ]
  },
  {
   "cell_type": "code",
   "execution_count": null,
   "metadata": {},
   "outputs": [],
   "source": []
  },
  {
   "cell_type": "code",
   "execution_count": null,
   "metadata": {},
   "outputs": [],
   "source": [
    "# Contacts Application\n",
    "    # Add, Search, List, Modify, Delete Contacts\n",
    "import re\n",
    "def phoneNumberValidator(num):\n",
    "    "
   ]
  },
  {
   "cell_type": "code",
   "execution_count": null,
   "metadata": {},
   "outputs": [],
   "source": []
  },
  {
   "cell_type": "code",
   "execution_count": null,
   "metadata": {},
   "outputs": [],
   "source": []
  },
  {
   "cell_type": "code",
   "execution_count": null,
   "metadata": {},
   "outputs": [],
   "source": []
  },
  {
   "cell_type": "code",
   "execution_count": null,
   "metadata": {},
   "outputs": [],
   "source": []
  }
 ],
 "metadata": {
  "kernelspec": {
   "display_name": "Python 3",
   "language": "python",
   "name": "python3"
  },
  "language_info": {
   "codemirror_mode": {
    "name": "ipython",
    "version": 3
   },
   "file_extension": ".py",
   "mimetype": "text/x-python",
   "name": "python",
   "nbconvert_exporter": "python",
   "pygments_lexer": "ipython3",
   "version": "3.7.3"
  }
 },
 "nbformat": 4,
 "nbformat_minor": 2
}
