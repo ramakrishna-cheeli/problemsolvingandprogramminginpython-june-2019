{
 "cells": [
  {
   "cell_type": "code",
   "execution_count": null,
   "metadata": {},
   "outputs": [],
   "source": [
    "# Recursive Sum\n",
    "\n",
    "def recursivesums():\n",
    "    ntest=int(input())\n",
    "    total=0\n",
    "    for j in range(ntest):\n",
    "        d=input().split()\n",
    "        a=int(d[0])\n",
    "        b=int(d[1])\n",
    "        total=total+a*b\n",
    "    if total<=9:\n",
    "           return total\n",
    "    else:\n",
    "        while total>9:\n",
    "            check=list(str(total))\n",
    "            check=[int(x) for x in check]\n",
    "            total=sum(check)\n",
    "    return total\n",
    "n=int(input())\n",
    "for i in range(n):\n",
    "        print(recursivesums())\n"
   ]
  },
  {
   "cell_type": "code",
   "execution_count": null,
   "metadata": {},
   "outputs": [],
   "source": []
  },
  {
   "cell_type": "code",
   "execution_count": 4,
   "metadata": {},
   "outputs": [
    {
     "name": "stdout",
     "output_type": "stream",
     "text": [
      "2\n",
      "3\n",
      "A\n",
      "5\n",
      "A\n"
     ]
    }
   ],
   "source": [
    "# Lift queries\n",
    "\n",
    "t= int(input())\n",
    "def liftQueries(t):\n",
    "    A,B =0,7\n",
    "    for i in range(t):\n",
    "        \n",
    "        N = int(input())\n",
    "        if abs(N-A)<abs(N-B):\n",
    "            print(\"A\")\n",
    "            A=N\n",
    "        if abs(N-B)<abs(N-A):\n",
    "            print(\"B\")\n",
    "            B=N\n",
    "        if (abs(N-A) == abs(N-B)):\n",
    "            k = min(A,B)\n",
    "            if k==A:\n",
    "                print(\"A\")\n",
    "            else:\n",
    "                print(\"B\")\n",
    "    return\n",
    "liftQueries(t)"
   ]
  },
  {
   "cell_type": "code",
   "execution_count": 1,
   "metadata": {},
   "outputs": [
    {
     "ename": "SyntaxError",
     "evalue": "invalid syntax (<ipython-input-1-2248ab118cd4>, line 8)",
     "output_type": "error",
     "traceback": [
      "\u001b[1;36m  File \u001b[1;32m\"<ipython-input-1-2248ab118cd4>\"\u001b[1;36m, line \u001b[1;32m8\u001b[0m\n\u001b[1;33m    line = name +, ','+phone+','+ email + '\\n'\u001b[0m\n\u001b[1;37m                 ^\u001b[0m\n\u001b[1;31mSyntaxError\u001b[0m\u001b[1;31m:\u001b[0m invalid syntax\n"
     ]
    }
   ],
   "source": [
    "# Funtion add contact to contacts text file\n",
    "from packages import validators\n",
    "\n",
    "def addContacts(name,phone,email):\n",
    "    #store data as name,phone,email in the contacts\n",
    "    filename = 'Datafiles/contacts.txt'\n",
    "    with open(filename,'a') as f:\n",
    "        line = name +, ','+phone+','+ email + '\\n'\n",
    "        f.write(line)\n",
    "    print(name, 'added to contacts')\n",
    "    return\n",
    "\n",
    "addContacts(name1,9876543210,\"xyz@gmail.com\")\n",
    "\n",
    "\n",
    "import re\n",
    "# Function to check i fcontctnalready exists\n",
    "\n",
    "def contactExists(name):\n",
    "    filename = 'Datafiles/contacts.txt'\n",
    "    with open(filename,'r') as f:\n",
    "        filedata = f.read()\n",
    "    return re.search(name,filedata)\n",
    "if contactExists(\"name2,\"):\n",
    "    print(True)\n",
    "else:\n",
    "    print(False)"
   ]
  },
  {
   "cell_type": "code",
   "execution_count": null,
   "metadata": {},
   "outputs": [],
   "source": []
  },
  {
   "cell_type": "code",
   "execution_count": 7,
   "metadata": {},
   "outputs": [
    {
     "data": {
      "text/plain": [
       "''"
      ]
     },
     "execution_count": 7,
     "metadata": {},
     "output_type": "execute_result"
    }
   ],
   "source": [
    "filename = 'DataFiles/contacts.txt'\n",
    "def csvToList(filename):\n",
    "    li = []\n",
    "    with open(filename, 'r') as f:\n",
    "        for line in f:\n",
    "            li.append(line.split(','))\n",
    "    return li\n",
    "\n",
    "def listToFile(li):\n",
    "    s = ''\n",
    "    for i in li:\n",
    "        s = s + s.join(i)\n",
    "    return s\n",
    "\n",
    "li = csvToList(filename)\n",
    "listToFile(li)"
   ]
  },
  {
   "cell_type": "code",
   "execution_count": 6,
   "metadata": {},
   "outputs": [
    {
     "name": "stdout",
     "output_type": "stream",
     "text": [
      "30\n",
      "Motu\n"
     ]
    }
   ],
   "source": [
    "def bricks(n):\n",
    "    count=0\n",
    "    count1=0\n",
    "    for i in range(1,n+1):\n",
    "        count=count+i\n",
    "        if (count+count1 >=n):\n",
    "            print(\"Patlu\")\n",
    "            break\n",
    "        count1=count1+(i*2)\n",
    "        if (count1+count>=n):\n",
    "            print(\"Motu\")\n",
    "            break\n",
    "    return\n",
    "bricks(int(input()))"
   ]
  },
  {
   "cell_type": "code",
   "execution_count": null,
   "metadata": {},
   "outputs": [],
   "source": []
  },
  {
   "cell_type": "code",
   "execution_count": null,
   "metadata": {},
   "outputs": [],
   "source": []
  },
  {
   "cell_type": "code",
   "execution_count": null,
   "metadata": {},
   "outputs": [],
   "source": []
  }
 ],
 "metadata": {
  "kernelspec": {
   "display_name": "Python 3",
   "language": "python",
   "name": "python3"
  },
  "language_info": {
   "codemirror_mode": {
    "name": "ipython",
    "version": 3
   },
   "file_extension": ".py",
   "mimetype": "text/x-python",
   "name": "python",
   "nbconvert_exporter": "python",
   "pygments_lexer": "ipython3",
   "version": "3.7.3"
  }
 },
 "nbformat": 4,
 "nbformat_minor": 2
}
