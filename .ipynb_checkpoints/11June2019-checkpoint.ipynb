{
 "cells": [
  {
   "cell_type": "markdown",
   "metadata": {},
   "source": [
    "### Markdown basics\n",
    " **Bold**\n",
    " *italic*\n",
    " * ***IB***\n",
    " * Normal Text\n",
    "     * Sub list1\n",
    "     * Sub list2\n",
    "\n",
    "\n",
    "1. order list element 1\n",
    "2. ordered list element 2\n",
    "\n",
    "- [] option 1\n",
    "- [] option 2\n",
    "- [x] option 3\n",
    "\n",
    "I get 10 times more traffic from [Google] [1] than from\n",
    "[Yahoo] [2] or [MSN] [3].\n",
    "\n",
    "  [1]: http://google.com/        \"Google\"\n",
    "  [2]: http://search.yahoo.com/  \"Yahoo Search\"\n",
    "  [3]: http://search.msn.com/    \"MSN Search\"\n",
    "  \n",
    "  `printf(\"hello this is python\")`\n",
    "  \n",
    "  <https:google.com>\n",
    "  \n",
    "  <markdown@gmail.com>\n",
    "\n",
    "\n",
    "[jupyter logo](jupyter.png)\n",
    "\n",
    "<img src=\"jupyter.png\" style=\"float:left\">"
   ]
  },
  {
   "cell_type": "code",
   "execution_count": null,
   "metadata": {},
   "outputs": [],
   "source": []
  },
  {
   "cell_type": "markdown",
   "metadata": {},
   "source": [
    "# Python Basics\n",
    "\n",
    "python Version 3.7\n",
    "\n",
    "- Scripting (line by line execution)\n",
    "- Object oriented\n",
    "- Functional"
   ]
  },
  {
   "cell_type": "code",
   "execution_count": 10,
   "metadata": {},
   "outputs": [
    {
     "name": "stdout",
     "output_type": "stream",
     "text": [
      "Good Evening ! hello python \n"
     ]
    }
   ],
   "source": [
    "# python comment\n",
    "\n",
    "print(\"Good Evening\",\"!\",end=\" \") # basic output\n",
    "print(\"hello python \")"
   ]
  },
  {
   "cell_type": "code",
   "execution_count": null,
   "metadata": {},
   "outputs": [],
   "source": []
  },
  {
   "cell_type": "markdown",
   "metadata": {},
   "source": [
    "### Assignment"
   ]
  },
  {
   "cell_type": "code",
   "execution_count": 18,
   "metadata": {},
   "outputs": [
    {
     "name": "stdout",
     "output_type": "stream",
     "text": [
      "123 345 456\n"
     ]
    }
   ],
   "source": [
    "n1=123456 # single Variable Assignment\n",
    "\n",
    "n2 = n3 = n4 = n1    # Multivariable Assignment of the same value\n",
    "\n",
    "a,b,c = 123, 345,456  # Multivariable Assignment with different values\n",
    "\n",
    "print(a,b,c)"
   ]
  },
  {
   "cell_type": "code",
   "execution_count": null,
   "metadata": {},
   "outputs": [],
   "source": []
  },
  {
   "cell_type": "markdown",
   "metadata": {},
   "source": [
    "### Data Types\n",
    " - int\n",
    " - float\n",
    " - string"
   ]
  },
  {
   "cell_type": "code",
   "execution_count": 43,
   "metadata": {},
   "outputs": [
    {
     "data": {
      "text/plain": [
       "12.0"
      ]
     },
     "execution_count": 43,
     "metadata": {},
     "output_type": "execute_result"
    }
   ],
   "source": [
    "type(a)\n",
    "\n",
    "s1=\"python\"\n",
    "\n",
    "type(s1)\n",
    "\n",
    "f1=12.345\n",
    "\n",
    "type(f1)\n",
    "\n",
    "int(f1)\n",
    "\n",
    "str(int(f1))\n",
    "\n",
    "float(str(int(f1)))\n",
    "\n"
   ]
  },
  {
   "cell_type": "code",
   "execution_count": null,
   "metadata": {},
   "outputs": [],
   "source": []
  },
  {
   "cell_type": "markdown",
   "metadata": {},
   "source": [
    "### Arithmetic Operations\n",
    "- +\n",
    "- -\n",
    "- *\n",
    "- /\n",
    "- %\n",
    "- **\n"
   ]
  },
  {
   "cell_type": "code",
   "execution_count": 32,
   "metadata": {},
   "outputs": [
    {
     "data": {
      "text/plain": [
       "str"
      ]
     },
     "execution_count": 32,
     "metadata": {},
     "output_type": "execute_result"
    }
   ],
   "source": [
    "n1 %11\n",
    "n3 = n2 **1\n",
    "\n",
    "type(n3)\n",
    " \n",
    "len(str(n3))\n",
    "\n",
    "n3\n",
    "\n",
    "atoms= 10**82\n",
    "len(str(atoms))\n",
    "\n",
    "type(str(atoms))"
   ]
  },
  {
   "cell_type": "code",
   "execution_count": null,
   "metadata": {},
   "outputs": [],
   "source": []
  },
  {
   "cell_type": "markdown",
   "metadata": {},
   "source": [
    "### Condiotionals"
   ]
  },
  {
   "cell_type": "code",
   "execution_count": 51,
   "metadata": {},
   "outputs": [
    {
     "name": "stdout",
     "output_type": "stream",
     "text": [
      "FALSE\n"
     ]
    }
   ],
   "source": [
    "if atoms < 10 ** 9:\n",
    "    print(\"TRUE\")\n",
    "else:\n",
    "    print(\"FALSE\")"
   ]
  },
  {
   "cell_type": "code",
   "execution_count": null,
   "metadata": {},
   "outputs": [],
   "source": []
  }
 ],
 "metadata": {
  "kernelspec": {
   "display_name": "Python 3",
   "language": "python",
   "name": "python3"
  },
  "language_info": {
   "codemirror_mode": {
    "name": "ipython",
    "version": 3
   },
   "file_extension": ".py",
   "mimetype": "text/x-python",
   "name": "python",
   "nbconvert_exporter": "python",
   "pygments_lexer": "ipython3",
   "version": "3.7.3"
  }
 },
 "nbformat": 4,
 "nbformat_minor": 2
}
