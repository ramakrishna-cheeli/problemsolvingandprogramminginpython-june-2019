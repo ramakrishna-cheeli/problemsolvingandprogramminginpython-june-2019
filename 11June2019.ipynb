{
 "cells": [
  {
   "cell_type": "markdown",
   "metadata": {},
   "source": [
    "### Markdown basics\n",
    " **Bold**\n",
    " *italic*\n",
    " * ***IB***\n",
    " * Normal Text\n",
    "     * Sub list1\n",
    "     * Sub list2\n",
    "\n",
    "\n",
    "1. order list element 1\n",
    "2. ordered list element 2\n",
    "\n",
    "- [] option 1\n",
    "- [] option 2\n",
    "- [x] option 3\n",
    "\n",
    "I get 10 times more traffic from [Google] [1] than from\n",
    "[Yahoo] [2] or [MSN] [3].\n",
    "\n",
    "  [1]: http://google.com/        \"Google\"\n",
    "  [2]: http://search.yahoo.com/  \"Yahoo Search\"\n",
    "  [3]: http://search.msn.com/    \"MSN Search\"\n",
    "  \n",
    "  `printf(\"hello this is python\")`\n",
    "  \n",
    "  <https:google.com>\n",
    "  \n",
    "  <markdown@gmail.com>\n",
    "\n",
    "\n",
    "[jupyter logo](jupyter.png)\n",
    "\n",
    "<img src=\"jupyter.png\" style=\"float:left\">"
   ]
  },
  {
   "cell_type": "code",
   "execution_count": null,
   "metadata": {},
   "outputs": [],
   "source": []
  },
  {
   "cell_type": "markdown",
   "metadata": {},
   "source": [
    "# Python Basics\n",
    "\n",
    "python Version 3.7\n",
    "\n",
    "- Scripting (line by line execution)\n",
    "- Object oriented\n",
    "- Functional"
   ]
  },
  {
   "cell_type": "code",
   "execution_count": 10,
   "metadata": {},
   "outputs": [
    {
     "name": "stdout",
     "output_type": "stream",
     "text": [
      "Good Evening ! hello python \n"
     ]
    }
   ],
   "source": [
    "# python comment\n",
    "\n",
    "print(\"Good Evening\",\"!\",end=\" \") # basic output\n",
    "print(\"hello python \")"
   ]
  },
  {
   "cell_type": "code",
   "execution_count": null,
   "metadata": {},
   "outputs": [],
   "source": []
  },
  {
   "cell_type": "markdown",
   "metadata": {},
   "source": [
    "### Assignment"
   ]
  },
  {
   "cell_type": "code",
   "execution_count": 18,
   "metadata": {},
   "outputs": [
    {
     "name": "stdout",
     "output_type": "stream",
     "text": [
      "123 345 456\n"
     ]
    }
   ],
   "source": [
    "n1=123456 # single Variable Assignment\n",
    "\n",
    "n2 = n3 = n4 = n1    # Multivariable Assignment of the same value\n",
    "\n",
    "a,b,c = 123, 345,456  # Multivariable Assignment with different values\n",
    "\n",
    "print(a,b,c)"
   ]
  },
  {
   "cell_type": "code",
   "execution_count": null,
   "metadata": {},
   "outputs": [],
   "source": []
  },
  {
   "cell_type": "markdown",
   "metadata": {},
   "source": [
    "### Data Types\n",
    " - int\n",
    " - float\n",
    " - string"
   ]
  },
  {
   "cell_type": "code",
   "execution_count": 43,
   "metadata": {},
   "outputs": [
    {
     "data": {
      "text/plain": [
       "12.0"
      ]
     },
     "execution_count": 43,
     "metadata": {},
     "output_type": "execute_result"
    }
   ],
   "source": [
    "type(a)\n",
    "\n",
    "s1=\"python\"\n",
    "\n",
    "type(s1)\n",
    "\n",
    "f1=12.345\n",
    "\n",
    "type(f1)\n",
    "\n",
    "int(f1)\n",
    "\n",
    "str(int(f1))\n",
    "\n",
    "float(str(int(f1)))\n",
    "\n"
   ]
  },
  {
   "cell_type": "code",
   "execution_count": null,
   "metadata": {},
   "outputs": [],
   "source": []
  },
  {
   "cell_type": "markdown",
   "metadata": {},
   "source": [
    "### Arithmetic Operations\n",
    "- +\n",
    "- -\n",
    "- *\n",
    "- /\n",
    "- %\n",
    "- **\n"
   ]
  },
  {
   "cell_type": "code",
   "execution_count": 32,
   "metadata": {},
   "outputs": [
    {
     "data": {
      "text/plain": [
       "str"
      ]
     },
     "execution_count": 32,
     "metadata": {},
     "output_type": "execute_result"
    }
   ],
   "source": [
    "n1 %11\n",
    "n3 = n2 **1\n",
    "\n",
    "type(n3)\n",
    " \n",
    "len(str(n3))\n",
    "\n",
    "n3\n",
    "\n",
    "atoms= 10**82\n",
    "len(str(atoms))\n",
    "\n",
    "type(str(atoms))"
   ]
  },
  {
   "cell_type": "code",
   "execution_count": null,
   "metadata": {},
   "outputs": [],
   "source": []
  },
  {
   "cell_type": "markdown",
   "metadata": {},
   "source": [
    "### Condiotionals"
   ]
  },
  {
   "cell_type": "code",
   "execution_count": 51,
   "metadata": {},
   "outputs": [
    {
     "name": "stdout",
     "output_type": "stream",
     "text": [
      "FALSE\n"
     ]
    }
   ],
   "source": [
    "if atoms < 10 ** 9:\n",
    "    print(\"TRUE\")\n",
    "else:\n",
    "    print(\"FALSE\")"
   ]
  },
  {
   "cell_type": "code",
   "execution_count": 52,
   "metadata": {},
   "outputs": [
    {
     "name": "stdout",
     "output_type": "stream",
     "text": [
      "odd\n"
     ]
    }
   ],
   "source": [
    "#check if a number is even \n",
    "\n",
    "n = 123\n",
    "if n % 2==0 :\n",
    "    print(\"even\")\n",
    "else:\n",
    "    print(\"odd\")"
   ]
  },
  {
   "cell_type": "code",
   "execution_count": 58,
   "metadata": {},
   "outputs": [
    {
     "name": "stdout",
     "output_type": "stream",
     "text": [
      "enter the first number: -1\n",
      "enter the second number: -50\n",
      "enter the third number: -100\n",
      "-1 is the greatest\n"
     ]
    }
   ],
   "source": [
    "#find the greatest of 3 numbers\n",
    "\n",
    "n1 = int(input(\"enter the first number: \"))\n",
    "n2 = int(input(\"enter the second number: \"))\n",
    "n3 = int(input(\"enter the third number: \"))\n",
    "\n",
    "if n1 > n2 and n1 > n3:\n",
    "    print(n1, \"is the greatest\")\n",
    "elif n2 > n3:\n",
    "        print(n2,\"is the greatest\")\n",
    "else:\n",
    "    print(n3,\"is the greatest\")"
   ]
  },
  {
   "cell_type": "code",
   "execution_count": 60,
   "metadata": {},
   "outputs": [
    {
     "name": "stdout",
     "output_type": "stream",
     "text": [
      "entr the year: 2016\n",
      "2016 is a leap year\n"
     ]
    }
   ],
   "source": [
    "#leap year\n",
    "year= int(input(\"entr the year: \"))\n",
    "if (year%400==0) or (year%4==0 and year%100!=0):\n",
    "    print(year,\"is a leap year\")\n",
    "else:\n",
    "    print(\"not a leap year\")"
   ]
  },
  {
   "cell_type": "code",
   "execution_count": 61,
   "metadata": {},
   "outputs": [
    {
     "name": "stdout",
     "output_type": "stream",
     "text": [
      "enter the number to check: 123\n",
      "enter the lower range: 12\n",
      "enter the upper range: 456\n",
      "the number is in the given range\n"
     ]
    }
   ],
   "source": [
    "#check if a number is exist in a given range\n",
    "n1 = int(input(\"enter the number to check: \"))\n",
    "lb = int(input(\"enter the lower range: \"))\n",
    "ub = int(input(\"enter the upper range: \"))\n",
    "if lb <= n1 <=ub:\n",
    "    print(\"the number is in the given range\")\n",
    "else:\n",
    "    print(\"not in the range\")"
   ]
  },
  {
   "cell_type": "code",
   "execution_count": null,
   "metadata": {},
   "outputs": [],
   "source": [
    "# calculate the number of digits in a number\n",
    "a = int(input(\"entr the number: \"))\n",
    "b=str(a)\n",
    "c=len(b)\n",
    "print(c)"
   ]
  },
  {
   "cell_type": "code",
   "execution_count": null,
   "metadata": {},
   "outputs": [],
   "source": [
    "#check if a number is a multiple of 10\n",
    "n=int(input(\"enter the number to check whether it is a multiple of 10: \"))\n",
    "if n%10==0:\n",
    "    print(\"multiple of 10\")\n",
    "else:\n",
    "    print(\"not a multiple of 10\")"
   ]
  },
  {
   "cell_type": "code",
   "execution_count": null,
   "metadata": {},
   "outputs": [],
   "source": [
    "#check if a number is factor of 1000\n",
    "i=int(input(\"enter the number: \"))\n",
    "if 1000%i==0:\n",
    "    print(i,\"is a factor of 1000\")\n",
    "else:\n",
    "    print(\"not a factor of 1000\")"
   ]
  },
  {
   "cell_type": "code",
   "execution_count": 2,
   "metadata": {},
   "outputs": [
    {
     "name": "stdout",
     "output_type": "stream",
     "text": [
      "enter the string123\n",
      "entr the num1234\n",
      "false\n"
     ]
    }
   ],
   "source": [
    "#check if string is equal to a number\n",
    "st=input(\"enter the string\")\n",
    "num=int(input(\"entr the num\"))\n",
    "if str(num)==st:\n",
    "    print(\"true\")\n",
    "else:\n",
    "    print(\"false\")"
   ]
  },
  {
   "cell_type": "code",
   "execution_count": null,
   "metadata": {},
   "outputs": [],
   "source": [
    "#calculate the square root of a number without functions\n",
    "sqr=int(input(\"enter the number\"))\n",
    "root=sqr**0.5\n",
    "print(root)\n"
   ]
  },
  {
   "cell_type": "code",
   "execution_count": 1,
   "metadata": {},
   "outputs": [
    {
     "name": "stdout",
     "output_type": "stream",
     "text": [
      "31622400000000000\n"
     ]
    }
   ],
   "source": [
    "#calculate the number of nano seconds in a given year(considering leap year logic)\n",
    "year=2016\n",
    "if (year%400==0) or (year%4==0 and year%100!=0):\n",
    "    print(366*24*60*60*(10**9))\n",
    "else:\n",
    "    print(365*24*60*60*(10**9))\n"
   ]
  },
  {
   "cell_type": "code",
   "execution_count": null,
   "metadata": {},
   "outputs": [],
   "source": []
  },
  {
   "cell_type": "code",
   "execution_count": null,
   "metadata": {},
   "outputs": [],
   "source": []
  },
  {
   "cell_type": "code",
   "execution_count": null,
   "metadata": {},
   "outputs": [],
   "source": []
  },
  {
   "cell_type": "code",
   "execution_count": null,
   "metadata": {},
   "outputs": [],
   "source": []
  },
  {
   "cell_type": "code",
   "execution_count": null,
   "metadata": {},
   "outputs": [],
   "source": []
  }
 ],
 "metadata": {
  "kernelspec": {
   "display_name": "Python 3",
   "language": "python",
   "name": "python3"
  },
  "language_info": {
   "codemirror_mode": {
    "name": "ipython",
    "version": 3
   },
   "file_extension": ".py",
   "mimetype": "text/x-python",
   "name": "python",
   "nbconvert_exporter": "python",
   "pygments_lexer": "ipython3",
   "version": "3.7.3"
  }
 },
 "nbformat": 4,
 "nbformat_minor": 2
}
