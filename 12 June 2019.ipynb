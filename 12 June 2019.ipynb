{
 "cells": [
  {
   "cell_type": "markdown",
   "metadata": {},
   "source": [
    "# Problem Solving and Programming\n",
    "### 12 June 2019\n",
    "### Day Objectives"
   ]
  },
  {
   "cell_type": "code",
   "execution_count": null,
   "metadata": {},
   "outputs": [],
   "source": []
  },
  {
   "cell_type": "markdown",
   "metadata": {},
   "source": [
    "### String Slicing"
   ]
  },
  {
   "cell_type": "code",
   "execution_count": 1,
   "metadata": {},
   "outputs": [
    {
     "data": {
      "text/plain": [
       "'mroPotP'"
      ]
     },
     "execution_count": 1,
     "metadata": {},
     "output_type": "execute_result"
    },
    {
     "data": {
      "text/plain": [
       "'mroPotP'"
      ]
     },
     "execution_count": 1,
     "metadata": {},
     "output_type": "execute_result"
    }
   ],
   "source": [
    "s1 = 'PythonProgram'\n",
    "\n",
    "s1[0] # Accessing first character in a string\n",
    "\n",
    "s1[1] # Accessing second character in a string\n",
    "\n",
    "s1[len(s1)-1] # Accessing the last character in the string\n",
    "\n",
    "s1[-1]  # Accessing the last character\n",
    "\n",
    "s1[-2] # Accessing the penultimate character in the string\n",
    "\n",
    "s1[0:2] # Accessing first two characters in a string\n",
    "\n",
    "s1[-2:] # Accessing the last two chraracters in a string\n",
    "\n",
    "s1[4:] #Accessing from the 5th character to end of the string\n",
    "\n",
    "# Accessing all characters except first and last character\n",
    "s1[1:-1]\n",
    "\n",
    "# Accessing the middle character in an odd length string\n",
    "s1[len(s1)//2]\n",
    "\n",
    "s1[-1::-1]# Reverse of the string \n",
    "\n",
    "#Access last two characters in reverse order\n",
    "s1[-1:-3:-1]\n",
    "\n",
    "\n",
    "# reverse the middle two character in an even length string\n",
    "\n",
    "s1[len(s1)//2:len(s1)//2-2:1]\n",
    "\n",
    "# Accessing alternate characters in a string\n",
    "# python ----> pto\n",
    "\n",
    "s1[::2]\n",
    "\n",
    "#Accessing alternate characters of a string in reverse order\n",
    "# python ---> nhy\n",
    "\n",
    "s1[::-2]\n"
   ]
  },
  {
   "cell_type": "code",
   "execution_count": null,
   "metadata": {},
   "outputs": [],
   "source": []
  },
  {
   "cell_type": "markdown",
   "metadata": {},
   "source": [
    "# Functions"
   ]
  },
  {
   "cell_type": "code",
   "execution_count": 2,
   "metadata": {},
   "outputs": [
    {
     "data": {
      "text/plain": [
       "'nohtyp'"
      ]
     },
     "execution_count": 2,
     "metadata": {},
     "output_type": "execute_result"
    },
    {
     "data": {
      "text/plain": [
       "'nohtyp'"
      ]
     },
     "execution_count": 2,
     "metadata": {},
     "output_type": "execute_result"
    }
   ],
   "source": [
    "# function to reverse a string\n",
    "def reverseString(s):\n",
    "    return s[::-1]\n",
    "reverseString(\"python\")"
   ]
  },
  {
   "cell_type": "code",
   "execution_count": 3,
   "metadata": {},
   "outputs": [
    {
     "data": {
      "text/plain": [
       "True"
      ]
     },
     "execution_count": 3,
     "metadata": {},
     "output_type": "execute_result"
    },
    {
     "data": {
      "text/plain": [
       "True"
      ]
     },
     "execution_count": 3,
     "metadata": {},
     "output_type": "execute_result"
    }
   ],
   "source": [
    "# function to check if a string is a palindrome\n",
    "def palindrome(s):\n",
    "    if s==s[::-1]:\n",
    "        return True\n",
    "    else:\n",
    "        return False\n",
    "palindrome(\"racecar\")"
   ]
  },
  {
   "cell_type": "code",
   "execution_count": 4,
   "metadata": {},
   "outputs": [
    {
     "data": {
      "text/plain": [
       "True"
      ]
     },
     "execution_count": 4,
     "metadata": {},
     "output_type": "execute_result"
    },
    {
     "data": {
      "text/plain": [
       "True"
      ]
     },
     "execution_count": 4,
     "metadata": {},
     "output_type": "execute_result"
    }
   ],
   "source": [
    "# Function to check if a given year is a leap year\n",
    "def isLeap(year):\n",
    "    if year%400==0 or (year%4==0 and year%100!=0):\n",
    "        return True\n",
    "    return False\n",
    "isLeap(2020)"
   ]
  },
  {
   "cell_type": "code",
   "execution_count": 5,
   "metadata": {},
   "outputs": [
    {
     "data": {
      "text/plain": [
       "5"
      ]
     },
     "execution_count": 5,
     "metadata": {},
     "output_type": "execute_result"
    },
    {
     "data": {
      "text/plain": [
       "5"
      ]
     },
     "execution_count": 5,
     "metadata": {},
     "output_type": "execute_result"
    }
   ],
   "source": [
    "#Function to count the no of digits in a number\n",
    "def count(n):\n",
    "    b=len(str(n))\n",
    "    return b\n",
    "count(12345)"
   ]
  },
  {
   "cell_type": "code",
   "execution_count": 6,
   "metadata": {},
   "outputs": [
    {
     "data": {
      "text/plain": [
       "5678"
      ]
     },
     "execution_count": 6,
     "metadata": {},
     "output_type": "execute_result"
    },
    {
     "data": {
      "text/plain": [
       "5678"
      ]
     },
     "execution_count": 6,
     "metadata": {},
     "output_type": "execute_result"
    }
   ],
   "source": [
    "# Function to identify the greatest of 4 numbers\n",
    "def greatest(a,b,c,d):\n",
    "    if a>b and a>c and a>d:\n",
    "        return a\n",
    "    elif b>c and b>d:\n",
    "        return b\n",
    "    elif c>d:\n",
    "        return c\n",
    "    else:\n",
    "        return d\n",
    "    \n",
    "greatest(123,3456,5678,78)"
   ]
  },
  {
   "cell_type": "code",
   "execution_count": null,
   "metadata": {},
   "outputs": [],
   "source": []
  },
  {
   "cell_type": "markdown",
   "metadata": {},
   "source": [
    "### Iteration\n",
    "\n",
    "- for \n",
    "- while \n",
    "##### For Loop in Python"
   ]
  },
  {
   "cell_type": "code",
   "execution_count": 2,
   "metadata": {},
   "outputs": [
    {
     "name": "stdout",
     "output_type": "stream",
     "text": [
      "1 2 3 4 5 6 7 8 9 10 11 12 13 14 15 16 17 18 19 20 21 22 23 24 25 26 27 28 29 30 "
     ]
    }
   ],
   "source": [
    "#Function to print n numbers\n",
    "def Nnumbers(n):\n",
    "    for i in range(1,n+1):\n",
    "        print(i, end=\" \")\n",
    "Nnumbers(30)"
   ]
  },
  {
   "cell_type": "code",
   "execution_count": 10,
   "metadata": {},
   "outputs": [
    {
     "name": "stdout",
     "output_type": "stream",
     "text": [
      "500 502 504 506 508 510 512 514 516 518 520 522 524 526 528 530 532 534 536 538 540 542 544 546 548 550 "
     ]
    }
   ],
   "source": [
    "# Function to print alternate values in a range\n",
    "#[500,550]---> 500 502 504 .....550\n",
    "#(500, 550)---->500 501 503 .....549\n",
    "# range(500, 550)---->500 501 502 ........549\n",
    "# All set based functions in python have \n",
    "\n",
    "def alternateValues(lb,ub):\n",
    "    for i in range(lb,ub+1,2):\n",
    "        print(i,end=\" \")\n",
    "    return\n",
    "alternateValues(500,550)\n"
   ]
  },
  {
   "cell_type": "code",
   "execution_count": 17,
   "metadata": {},
   "outputs": [
    {
     "name": "stdout",
     "output_type": "stream",
     "text": [
      "530 529 528 527 526 525 524 523 522 521 520 519 518 517 516 515 514 513 512 511 510 509 508 507 506 505 504 503 502 501 500 "
     ]
    }
   ],
   "source": [
    "#function to print reverse of a given range in the same line\n",
    "def reverseRange(start,end):\n",
    "    for i in range(end,start-1,-1):\n",
    "        print(i, end=\" \")\n",
    "    return\n",
    "reverseRange(500,530)"
   ]
  },
  {
   "cell_type": "code",
   "execution_count": 18,
   "metadata": {},
   "outputs": [
    {
     "name": "stdout",
     "output_type": "stream",
     "text": [
      "549 547 545 543 541 539 537 535 533 531 529 527 525 523 521 519 517 515 513 511 509 507 505 503 501 "
     ]
    }
   ],
   "source": [
    "# Function to print the odd numbers in the reverse order in a range\n",
    "def oddNreverse(lb,ub):\n",
    "    for i in range(ub,lb-1,-1):\n",
    "        if i%2!=0:\n",
    "            print(i,end=\" \")\n",
    "    return\n",
    "oddNreverse(500,550)"
   ]
  },
  {
   "cell_type": "code",
   "execution_count": 22,
   "metadata": {},
   "outputs": [
    {
     "data": {
      "text/plain": [
       "15150"
      ]
     },
     "execution_count": 22,
     "metadata": {},
     "output_type": "execute_result"
    }
   ],
   "source": [
    "# function to calculate the sum of the elements in a given range\n",
    "def sumRange(lb,ub):\n",
    "    sum=0\n",
    "    for i in range(lb,ub+1):\n",
    "        sum=sum+i\n",
    "    return sum\n",
    "sumRange(100,200)"
   ]
  },
  {
   "cell_type": "code",
   "execution_count": 26,
   "metadata": {},
   "outputs": [
    {
     "data": {
      "text/plain": [
       "3.0"
      ]
     },
     "execution_count": 26,
     "metadata": {},
     "output_type": "execute_result"
    }
   ],
   "source": [
    "# Functuin to calculate the average of a given range\n",
    "def averageRange(lb,ub):\n",
    "    sum=0\n",
    "    count=0\n",
    "    for i in range(lb,ub+1):\n",
    "        sum=sum+i\n",
    "        count=count+1\n",
    "    return sum/count\n",
    "averageRange(1,5)"
   ]
  },
  {
   "cell_type": "code",
   "execution_count": 52,
   "metadata": {},
   "outputs": [
    {
     "name": "stdout",
     "output_type": "stream",
     "text": [
      "104 108 112 116 120 124 128 132 136 140 144 148 152 156 160 164 168 172 176 180 184 188 192 196 "
     ]
    }
   ],
   "source": [
    "#function to generate all leap years in a given time period(2000 - 2020---> 2000 2004 2008 2012 2016 2020)\n",
    "def isLeapyear(year):\n",
    "    if year%400==0 or (year%4==0 and year%100!=0):\n",
    "        return True\n",
    "    return False\n",
    "#isLeapyear(100) \n",
    "def generateLeapyears(startyear, endyear):\n",
    "    for i in range(startyear, endyear+1):\n",
    "        if isLeapyear(i):\n",
    "            print(i, end=\" \")\n",
    "    return\n",
    "generateLeapyears(100,200)\n",
    "        "
   ]
  },
  {
   "cell_type": "code",
   "execution_count": 45,
   "metadata": {},
   "outputs": [
    {
     "data": {
      "text/plain": [
       "1098"
      ]
     },
     "execution_count": 45,
     "metadata": {},
     "output_type": "execute_result"
    }
   ],
   "source": [
    "#calculate the number of days in a given timeperiod using leap year logic\n",
    "def numberofDays(start,end):\n",
    "    sum=0\n",
    "    for i in range(start,end+1):\n",
    "        if isLeapyear(i):\n",
    "            sum=sum+366\n",
    "            \n",
    "        else:\n",
    "            sum=sum+365\n",
    "            \n",
    "    return sum\n",
    "numberofDays(2016,2018)\n",
    "    \n",
    "\n"
   ]
  },
  {
   "cell_type": "code",
   "execution_count": 4,
   "metadata": {},
   "outputs": [
    {
     "ename": "NameError",
     "evalue": "name 'isLeapyear' is not defined",
     "output_type": "error",
     "traceback": [
      "\u001b[1;31m---------------------------------------------------------------------------\u001b[0m",
      "\u001b[1;31mNameError\u001b[0m                                 Traceback (most recent call last)",
      "\u001b[1;32m<ipython-input-4-84e8a1127e9d>\u001b[0m in \u001b[0;36m<module>\u001b[1;34m\u001b[0m\n\u001b[0;32m     55\u001b[0m     \u001b[1;32mreturn\u001b[0m \u001b[1;36m24\u001b[0m \u001b[1;33m*\u001b[0m \u001b[0mdays\u001b[0m\u001b[1;33m\u001b[0m\u001b[1;33m\u001b[0m\u001b[0m\n\u001b[0;32m     56\u001b[0m \u001b[1;33m\u001b[0m\u001b[0m\n\u001b[1;32m---> 57\u001b[1;33m \u001b[0mnumberOfHours\u001b[0m\u001b[1;33m(\u001b[0m\u001b[1;36m2\u001b[0m\u001b[1;33m,\u001b[0m \u001b[1;36m2016\u001b[0m\u001b[1;33m,\u001b[0m \u001b[1;36m6\u001b[0m\u001b[1;33m,\u001b[0m \u001b[1;36m2019\u001b[0m\u001b[1;33m)\u001b[0m\u001b[1;33m\u001b[0m\u001b[1;33m\u001b[0m\u001b[0m\n\u001b[0m\u001b[0;32m     58\u001b[0m \u001b[1;33m\u001b[0m\u001b[0m\n",
      "\u001b[1;32m<ipython-input-4-84e8a1127e9d>\u001b[0m in \u001b[0;36mnumberOfHours\u001b[1;34m(startmonth, startyear, endmonth, endyear)\u001b[0m\n\u001b[0;32m     44\u001b[0m     \u001b[0mdays\u001b[0m \u001b[1;33m=\u001b[0m \u001b[1;36m0\u001b[0m\u001b[1;33m\u001b[0m\u001b[1;33m\u001b[0m\u001b[0m\n\u001b[0;32m     45\u001b[0m     \u001b[1;32mif\u001b[0m \u001b[0mstartyear\u001b[0m \u001b[1;33m!=\u001b[0m \u001b[0mendyear\u001b[0m\u001b[1;33m:\u001b[0m\u001b[1;33m\u001b[0m\u001b[1;33m\u001b[0m\u001b[0m\n\u001b[1;32m---> 46\u001b[1;33m         \u001b[0mdays\u001b[0m \u001b[1;33m+=\u001b[0m \u001b[0mdaysInStartYear\u001b[0m\u001b[1;33m(\u001b[0m\u001b[0mstartmonth\u001b[0m\u001b[1;33m,\u001b[0m \u001b[0mstartyear\u001b[0m\u001b[1;33m)\u001b[0m\u001b[1;33m\u001b[0m\u001b[1;33m\u001b[0m\u001b[0m\n\u001b[0m\u001b[0;32m     47\u001b[0m         \u001b[0mdays\u001b[0m \u001b[1;33m+=\u001b[0m \u001b[0mdaysInEndYear\u001b[0m\u001b[1;33m(\u001b[0m\u001b[0mendmonth\u001b[0m\u001b[1;33m,\u001b[0m \u001b[0mendyear\u001b[0m\u001b[1;33m)\u001b[0m\u001b[1;33m\u001b[0m\u001b[1;33m\u001b[0m\u001b[0m\n\u001b[0;32m     48\u001b[0m         \u001b[1;32mif\u001b[0m \u001b[0mendyear\u001b[0m \u001b[1;33m-\u001b[0m \u001b[0mstartyear\u001b[0m \u001b[1;33m==\u001b[0m \u001b[1;36m2\u001b[0m\u001b[1;33m:\u001b[0m \u001b[1;31m# 2019 - 2017\u001b[0m\u001b[1;33m\u001b[0m\u001b[1;33m\u001b[0m\u001b[0m\n",
      "\u001b[1;32m<ipython-input-4-84e8a1127e9d>\u001b[0m in \u001b[0;36mdaysInStartYear\u001b[1;34m(startmonth, startyear)\u001b[0m\n\u001b[0;32m     32\u001b[0m     \u001b[0mdays\u001b[0m \u001b[1;33m=\u001b[0m \u001b[1;36m0\u001b[0m\u001b[1;33m\u001b[0m\u001b[1;33m\u001b[0m\u001b[0m\n\u001b[0;32m     33\u001b[0m     \u001b[1;32mfor\u001b[0m \u001b[0mmonth\u001b[0m \u001b[1;32min\u001b[0m \u001b[0mrange\u001b[0m\u001b[1;33m(\u001b[0m\u001b[0mstartmonth\u001b[0m\u001b[1;33m,\u001b[0m \u001b[1;36m13\u001b[0m\u001b[1;33m)\u001b[0m\u001b[1;33m:\u001b[0m\u001b[1;33m\u001b[0m\u001b[1;33m\u001b[0m\u001b[0m\n\u001b[1;32m---> 34\u001b[1;33m         \u001b[0mdays\u001b[0m \u001b[1;33m+=\u001b[0m \u001b[0mnumberOfDaysMonth\u001b[0m\u001b[1;33m(\u001b[0m\u001b[0mmonth\u001b[0m\u001b[1;33m,\u001b[0m \u001b[0mstartyear\u001b[0m\u001b[1;33m)\u001b[0m\u001b[1;33m\u001b[0m\u001b[1;33m\u001b[0m\u001b[0m\n\u001b[0m\u001b[0;32m     35\u001b[0m     \u001b[1;32mreturn\u001b[0m \u001b[0mdays\u001b[0m\u001b[1;33m\u001b[0m\u001b[1;33m\u001b[0m\u001b[0m\n\u001b[0;32m     36\u001b[0m \u001b[1;33m\u001b[0m\u001b[0m\n",
      "\u001b[1;32m<ipython-input-4-84e8a1127e9d>\u001b[0m in \u001b[0;36mnumberOfDaysMonth\u001b[1;34m(month, year)\u001b[0m\n\u001b[0;32m     21\u001b[0m \u001b[1;32mdef\u001b[0m \u001b[0mnumberOfDaysMonth\u001b[0m\u001b[1;33m(\u001b[0m\u001b[0mmonth\u001b[0m\u001b[1;33m,\u001b[0m \u001b[0myear\u001b[0m\u001b[1;33m)\u001b[0m\u001b[1;33m:\u001b[0m\u001b[1;33m\u001b[0m\u001b[1;33m\u001b[0m\u001b[0m\n\u001b[0;32m     22\u001b[0m     \u001b[1;32mif\u001b[0m \u001b[0mmonth\u001b[0m \u001b[1;33m==\u001b[0m \u001b[1;36m2\u001b[0m\u001b[1;33m:\u001b[0m\u001b[1;33m\u001b[0m\u001b[1;33m\u001b[0m\u001b[0m\n\u001b[1;32m---> 23\u001b[1;33m         \u001b[1;32mif\u001b[0m \u001b[0misLeapyear\u001b[0m\u001b[1;33m(\u001b[0m\u001b[0myear\u001b[0m\u001b[1;33m)\u001b[0m\u001b[1;33m:\u001b[0m\u001b[1;33m\u001b[0m\u001b[1;33m\u001b[0m\u001b[0m\n\u001b[0m\u001b[0;32m     24\u001b[0m             \u001b[1;32mreturn\u001b[0m \u001b[1;36m29\u001b[0m\u001b[1;33m\u001b[0m\u001b[1;33m\u001b[0m\u001b[0m\n\u001b[0;32m     25\u001b[0m         \u001b[1;32mreturn\u001b[0m \u001b[1;36m28\u001b[0m\u001b[1;33m\u001b[0m\u001b[1;33m\u001b[0m\u001b[0m\n",
      "\u001b[1;31mNameError\u001b[0m: name 'isLeapyear' is not defined"
     ]
    }
   ],
   "source": [
    "# function to calculate number of hours for a given period(2-2016 to 6-2019)\n",
    "# all days from feb 2016 to dec 2016\n",
    "# all days for years between 2016 and 2019\n",
    "#all days from jan 2019 to dec 2019\n",
    "# No of hours = 24 *No of days\n",
    "# 3 steps\n",
    "    #1. start month year to end of year- calculate no of days\n",
    "    #2. calculate days for all years between start year \n",
    "        # 2017,2018-365* no of years\n",
    "    #3. calculate days from jan to end month year \n",
    "#Excluding feb\n",
    "#first six months- 1,3,4,5,6,7\n",
    "                    #All odd months have 31 days\n",
    "                    #All even months have 30 days\n",
    "# last six months -8,9,10,11,12\n",
    "                    #All even months have 31 days \n",
    "                    #All odd months have 30 days\n",
    "# 31 days - (month<=7 and month%2!=0 and month%2!=0) // (month>=8 and month)\n",
    "\n",
    "\n",
    "def numberOfDaysMonth(month, year):\n",
    "    if month == 2:\n",
    "        if isLeapyear(year):\n",
    "            return 29\n",
    "        return 28\n",
    "    elif (month <= 7 and month % 2!= 0) or (month >= 8 and month % 2 == 0):\n",
    "        return 31\n",
    "    else:\n",
    "        return 30\n",
    "\n",
    "def daysInStartYear(startmonth, startyear):\n",
    "    days = 0 \n",
    "    for month in range(startmonth, 13):\n",
    "        days += numberOfDaysMonth(month, startyear)\n",
    "    return days    \n",
    "\n",
    "def daysInEndYear(endmonth, endyear):\n",
    "    days = 0\n",
    "    for month in range(1, endmonth+1):\n",
    "        days += numberOfDaysMonth(month, endyear)\n",
    "    return days\n",
    "\n",
    "def numberOfHours(startmonth, startyear, endmonth, endyear):\n",
    "    days = 0\n",
    "    if startyear != endyear:\n",
    "        days += daysInStartYear(startmonth, startyear)\n",
    "        days += daysInEndYear(endmonth, endyear)\n",
    "        if endyear - startyear == 2: # 2019 - 2017\n",
    "            days += numberOfDays(startyear+1, startyear+1)\n",
    "        elif endyear - startyear > 2:\n",
    "            days += numberOfDays(startyear+1, endyear-1)\n",
    "    else:\n",
    "        for month in range(startmonth, endmonth+1):\n",
    "            days += numberOfDaysMonth(month, startyear)\n",
    "    return 24 * days\n",
    "\n",
    "numberOfHours(2, 2016, 6, 2019)\n",
    "    \n"
   ]
  },
  {
   "cell_type": "code",
   "execution_count": null,
   "metadata": {},
   "outputs": [],
   "source": []
  },
  {
   "cell_type": "code",
   "execution_count": null,
   "metadata": {},
   "outputs": [],
   "source": []
  },
  {
   "cell_type": "code",
   "execution_count": null,
   "metadata": {},
   "outputs": [],
   "source": []
  },
  {
   "cell_type": "code",
   "execution_count": null,
   "metadata": {},
   "outputs": [],
   "source": []
  },
  {
   "cell_type": "code",
   "execution_count": null,
   "metadata": {},
   "outputs": [],
   "source": []
  },
  {
   "cell_type": "code",
   "execution_count": 3,
   "metadata": {},
   "outputs": [
    {
     "name": "stdout",
     "output_type": "stream",
     "text": [
      "1 2 3 4 5 6 7 8 9 10 11 "
     ]
    }
   ],
   "source": [
    "#Function to print N natural numbers using a while loop\n",
    "def Nnatural(n):\n",
    "    i=1\n",
    "    while i<=n:\n",
    "        print(i,end=\" \")\n",
    "        i=i+1\n",
    "        \n",
    "    return\n",
    "Nnatural(11)"
   ]
  },
  {
   "cell_type": "code",
   "execution_count": 4,
   "metadata": {},
   "outputs": [
    {
     "name": "stdout",
     "output_type": "stream",
     "text": [
      "24 30 36 42 48 54 60 66 72 78 84 90 96 102 108 114 120 "
     ]
    }
   ],
   "source": [
    "#function to print all numbers divisible by 6 and not a factor of 100 in a given range(lb,ub)\n",
    "def divisible(lb,ub):\n",
    "    for i in range(lb,ub+1):\n",
    "        if(i%6==0 and 100%i!=0):\n",
    "            print(i,end=\" \")\n",
    "            \n",
    "divisible(20,120)\n"
   ]
  },
  {
   "cell_type": "code",
   "execution_count": 5,
   "metadata": {},
   "outputs": [
    {
     "name": "stdout",
     "output_type": "stream",
     "text": [
      "16500.0\n"
     ]
    }
   ],
   "source": [
    "#function to find the average of cubes of all even numbers in a given range(lb,ub) \n",
    "def average(lb,ub):\n",
    "    count=b=a=0\n",
    "    for i in range(lb,ub+1):\n",
    "        if i%2==0:\n",
    "            b=i**3\n",
    "            count=count+b\n",
    "            a=a+1\n",
    "    print(count/a)\n",
    "    return\n",
    "average(20,30)"
   ]
  },
  {
   "cell_type": "code",
   "execution_count": 6,
   "metadata": {},
   "outputs": [
    {
     "name": "stdout",
     "output_type": "stream",
     "text": [
      "1\n",
      "2\n",
      "3\n",
      "4\n",
      "6\n",
      "12\n"
     ]
    }
   ],
   "source": [
    "#function to generate the list of factors for a given number\n",
    "def factor(n):\n",
    "    for i in range(1,n+1):\n",
    "        if n%i==0:\n",
    "            print(i)\n",
    "    return\n",
    "factor(12)"
   ]
  },
  {
   "cell_type": "code",
   "execution_count": 27,
   "metadata": {},
   "outputs": [
    {
     "name": "stdout",
     "output_type": "stream",
     "text": [
      "120\n"
     ]
    }
   ],
   "source": [
    "# function to calculate the factorial of a given number\n",
    "def factorial(n):\n",
    "    b=1\n",
    "    for i in range(2,n+1):\n",
    "        b=b*i\n",
    "    print(b)\n",
    "factorial(5)"
   ]
  },
  {
   "cell_type": "code",
   "execution_count": 66,
   "metadata": {},
   "outputs": [
    {
     "data": {
      "text/plain": [
       "True"
      ]
     },
     "execution_count": 66,
     "metadata": {},
     "output_type": "execute_result"
    }
   ],
   "source": [
    "# function to check if a given number is Prime\n",
    "def prime(n):\n",
    "    flag= True\n",
    "    for i in range(2,n//2):\n",
    "        if n%i==0:\n",
    "            flag = False\n",
    "    return flag\n",
    "            \n",
    "prime(17)"
   ]
  },
  {
   "cell_type": "code",
   "execution_count": 65,
   "metadata": {},
   "outputs": [
    {
     "name": "stdout",
     "output_type": "stream",
     "text": [
      "6 28 "
     ]
    }
   ],
   "source": [
    "# first to generate all perfect numbers in a given range\n",
    "def perfectNumber(n):\n",
    "    sum=0\n",
    "    for i in range(1,n):\n",
    "        if n%i==0:\n",
    "            sum=sum+i\n",
    "            #print(sum)\n",
    "    if sum==n:\n",
    "        return True\n",
    "    return False\n",
    "perfectNumber(28)\n",
    "def perfectNumbersRange(lb,ub):\n",
    "    for i in range(lb,ub+1):\n",
    "        if perfectNumber(i):\n",
    "            print(i,end=\" \")\n",
    "    return\n",
    "perfectNumbersRange(1,100)\n",
    "        "
   ]
  },
  {
   "cell_type": "code",
   "execution_count": null,
   "metadata": {},
   "outputs": [],
   "source": []
  },
  {
   "cell_type": "code",
   "execution_count": null,
   "metadata": {},
   "outputs": [],
   "source": []
  },
  {
   "cell_type": "code",
   "execution_count": null,
   "metadata": {},
   "outputs": [],
   "source": []
  },
  {
   "cell_type": "code",
   "execution_count": null,
   "metadata": {},
   "outputs": [],
   "source": []
  }
 ],
 "metadata": {
  "kernelspec": {
   "display_name": "Python 3",
   "language": "python",
   "name": "python3"
  },
  "language_info": {
   "codemirror_mode": {
    "name": "ipython",
    "version": 3
   },
   "file_extension": ".py",
   "mimetype": "text/x-python",
   "name": "python",
   "nbconvert_exporter": "python",
   "pygments_lexer": "ipython3",
   "version": "3.7.3"
  }
 },
 "nbformat": 4,
 "nbformat_minor": 2
}
