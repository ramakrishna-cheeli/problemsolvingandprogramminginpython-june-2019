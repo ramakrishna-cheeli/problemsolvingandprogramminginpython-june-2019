{
 "cells": [
  {
   "cell_type": "code",
   "execution_count": null,
   "metadata": {},
   "outputs": [],
   "source": [
    "# Find the product\n",
    "t = int(input())\n",
    "def findProduct(t):\n",
    "    k=input().split()[:t]\n",
    "    p=1\n",
    "    for i in range(t):\n",
    "        p=(p*int(k[i]))%(10**9+7)\n",
    "    print(p)\n",
    "    return\n",
    "findProduct(t)\n",
    "            \n",
    "        "
   ]
  },
  {
   "cell_type": "code",
   "execution_count": null,
   "metadata": {},
   "outputs": [],
   "source": [
    "# bricks game\n",
    "#n=int(input())\n",
    "def bricks(n):\n",
    "    count=0\n",
    "    count1=0\n",
    "    for i in range(1,n+1):\n",
    "        count=count+i\n",
    "        if (count+count1 >=n):\n",
    "            print(\"Patlu\")\n",
    "            break\n",
    "        count1=count1+(i*2)\n",
    "        if (count1+count>=n):\n",
    "            print(\"Motu\")\n",
    "            break\n",
    "    return\n",
    "bricks(int(input()))"
   ]
  },
  {
   "cell_type": "code",
   "execution_count": null,
   "metadata": {},
   "outputs": [],
   "source": [
    "#Life, the Universe, and Everything\n",
    "\n",
    "n = int(input())\n",
    "def nuMber(n):\n",
    "    for i in range(1,n):\n",
    "        if i==42:\n",
    "            break\n",
    "        print(i)\n",
    "        \n",
    "    return\n",
    "nuMber(n)"
   ]
  },
  {
   "cell_type": "code",
   "execution_count": null,
   "metadata": {},
   "outputs": [],
   "source": []
  },
  {
   "cell_type": "code",
   "execution_count": 7,
   "metadata": {},
   "outputs": [
    {
     "name": "stdout",
     "output_type": "stream",
     "text": [
      "2\n",
      "21 3\n",
      "YES\n",
      "53 2\n",
      "NO\n"
     ]
    }
   ],
   "source": [
    "# birth day party\n",
    "t = int(input())\n",
    "def birthDay(t):\n",
    "    for i in range(t):\n",
    "        m,n = input().split()\n",
    "        #m = int(input())\n",
    "        if (int(m) % int(n))==0:\n",
    "            print(\"YES\")\n",
    "        else:\n",
    "            print(\"NO\")\n",
    "    return\n",
    "birthDay(t)"
   ]
  },
  {
   "cell_type": "code",
   "execution_count": 9,
   "metadata": {},
   "outputs": [
    {
     "name": "stdout",
     "output_type": "stream",
     "text": [
      "1 22 88 42 12 34\n",
      "1\n",
      "22\n",
      "88\n"
     ]
    }
   ],
   "source": [
    "n = map(int,input().split())\n",
    "def nuMber(n):\n",
    "    for i in n:\n",
    "        if i == 42:\n",
    "            break\n",
    "        print(i)\n",
    "        \n",
    "    return\n",
    "nuMber(n)"
   ]
  },
  {
   "cell_type": "code",
   "execution_count": null,
   "metadata": {},
   "outputs": [],
   "source": []
  }
 ],
 "metadata": {
  "kernelspec": {
   "display_name": "Python 3",
   "language": "python",
   "name": "python3"
  },
  "language_info": {
   "codemirror_mode": {
    "name": "ipython",
    "version": 3
   },
   "file_extension": ".py",
   "mimetype": "text/x-python",
   "name": "python",
   "nbconvert_exporter": "python",
   "pygments_lexer": "ipython3",
   "version": "3.7.3"
  }
 },
 "nbformat": 4,
 "nbformat_minor": 2
}
