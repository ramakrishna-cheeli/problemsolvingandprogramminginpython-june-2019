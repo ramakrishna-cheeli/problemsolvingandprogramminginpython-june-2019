{
 "cells": [
  {
   "cell_type": "code",
   "execution_count": 24,
   "metadata": {},
   "outputs": [
    {
     "name": "stdout",
     "output_type": "stream",
     "text": [
      "c\n",
      "0 0 0 0 0 0 0 0 0 "
     ]
    }
   ],
   "source": [
    "# Digit Frequency\n",
    "s=input()\n",
    "for i in range(0,9):\n",
    "    print(s.count(str(i)),end=\" \")"
   ]
  },
  {
   "cell_type": "code",
   "execution_count": 25,
   "metadata": {},
   "outputs": [
    {
     "name": "stdout",
     "output_type": "stream",
     "text": [
      "0 1 1 1 1 1 1 0 0 0 "
     ]
    }
   ],
   "source": [
    "# Digit Frequency\n",
    "\n",
    "# s=123abc456def\n",
    "\n",
    "# o/p: 1 1 1 1 1 1 0 0 0 0\n",
    "\n",
    "# s=1234567890\n",
    "\n",
    "#o/p:  1 1 1 1 1 1 1 1 1 1\n",
    "def uniqueData(allnumbers):\n",
    "    unique = []\n",
    "    for n in allnumbers:\n",
    "        if n not in unique:\n",
    "            unique.append(n)\n",
    "    return unique\n",
    "        \n",
    "def digitFrequency1(s):\n",
    "    allnumbers = []\n",
    "    for i in s:\n",
    "        if i.isdigit():\n",
    "            allnumbers.append(i)\n",
    "    unique = uniqueData(allnumbers)\n",
    "    for i in range(0,10):\n",
    "        if str(i) not in unique:\n",
    "            print(0, end=' ')\n",
    "        else:\n",
    "            count=allnumbers.count(str(i))\n",
    "            print(count,end=' ')is\n",
    "    \n",
    "    \n",
    "    return\n",
    "\n",
    "digitFrequency1('123abc456def')\n",
    "            \n",
    "\n",
    "    \n",
    "    \n",
    "    "
   ]
  },
  {
   "cell_type": "code",
   "execution_count": 26,
   "metadata": {},
   "outputs": [
    {
     "name": "stdout",
     "output_type": "stream",
     "text": [
      "0 "
     ]
    }
   ],
   "source": [
    "def digitFrequency2(s):\n",
    "    for i in range(0,10):\n",
    "        count = s.count(str(i))\n",
    "    print(count,end=' ')\n",
    "        \n",
    "    return\n",
    "digitFrequency2('123abc456def')"
   ]
  },
  {
   "cell_type": "code",
   "execution_count": null,
   "metadata": {},
   "outputs": [],
   "source": [
    "# Contacts Application\n",
    "    # Add, Search, List, Modify, Delete Contacts\n",
    "\n",
    "# Find and replace Application\n",
    "    # Count the total number of occurances of a word\n",
    "    # If word is existing \n",
    "    # Replace all occurances of word with another word\n",
    "    \n",
    "# Marks Analysis Application\n",
    "    # Generate Marks file for n students\n",
    "    # Input: Marks text file - each line contains the marks of each student\n",
    "    # Generates a report with the following information\n",
    "        # Class Average \n",
    "        # % of students passed\n",
    "        # % of failed students\n",
    "        # % of students with distinction\n",
    "        # Highest Mark Frequency\n",
    "        # Lowest Mark Frequency"
   ]
  },
  {
   "cell_type": "code",
   "execution_count": null,
   "metadata": {},
   "outputs": [],
   "source": []
  },
  {
   "cell_type": "code",
   "execution_count": 4,
   "metadata": {},
   "outputs": [],
   "source": [
    "# FUnction to generate marks data for n students\n",
    "\n",
    "from random import randint\n",
    "def generateMarks(n, lb, ub):\n",
    "    with open('DataFiles/marks.txt','w') as f:\n",
    "        for i in range(0,n):\n",
    "            r = randint(lb, ub)\n",
    "            \n",
    "            f.write(str(r) + '\\n')\n",
    "            \n",
    "    return\n",
    "generateMarks(1000,0,100)"
   ]
  },
  {
   "cell_type": "code",
   "execution_count": 5,
   "metadata": {},
   "outputs": [
    {
     "data": {
      "text/plain": [
       "50.295"
      ]
     },
     "execution_count": 5,
     "metadata": {},
     "output_type": "execute_result"
    }
   ],
   "source": [
    "# Class Average\n",
    "def average(n):\n",
    "    with open('DataFiles/marks.txt','r') as f:\n",
    "        favg = f.read()\n",
    "        sum = 0\n",
    "        for i in favg.split():\n",
    "            sum = sum + int(i)\n",
    "            \n",
    "    return sum/n\n",
    "\n",
    "average(1000)"
   ]
  },
  {
   "cell_type": "code",
   "execution_count": 17,
   "metadata": {},
   "outputs": [
    {
     "name": "stdout",
     "output_type": "stream",
     "text": [
      "66.5\n",
      "33.5\n"
     ]
    }
   ],
   "source": [
    "# Pass percentage\n",
    "def passPercentage():\n",
    "    with open('DataFiles/marks.txt','r') as f:\n",
    "        fpass = f.read()\n",
    "        sum = 0\n",
    "        count = 0\n",
    "        n=1000\n",
    "        count1=0\n",
    "        for i in fpass.split():\n",
    "            if int(i)>=35:\n",
    "                #print(i)\n",
    "                #sum=sum+int(i)\n",
    "                count+=1\n",
    "            else:\n",
    "                count1+=1\n",
    "        print((count/n)*100)\n",
    "        print((count1/n)*100)\n",
    "    return\n",
    "passPercentage()"
   ]
  },
  {
   "cell_type": "code",
   "execution_count": 20,
   "metadata": {},
   "outputs": [
    {
     "data": {
      "text/plain": [
       "25.2"
      ]
     },
     "execution_count": 20,
     "metadata": {},
     "output_type": "execute_result"
    }
   ],
   "source": [
    "def distinction():\n",
    "    with open('DataFiles/marks.txt','r') as f:\n",
    "        fdist = f.read()\n",
    "        #sum = 0\n",
    "        count = 0\n",
    "        n=1000\n",
    "        #count1=0\n",
    "        for i in fdist.split():\n",
    "            if int(i)>=75:\n",
    "                #print(i)\n",
    "                #sum=sum+int(i)\n",
    "                count+=1\n",
    "    return (count/n)*100\n",
    "\n",
    "distinction()\n",
    "    "
   ]
  },
  {
   "cell_type": "code",
   "execution_count": 2,
   "metadata": {},
   "outputs": [
    {
     "name": "stdout",
     "output_type": "stream",
     "text": [
      "100 : 10\n"
     ]
    }
   ],
   "source": [
    "def highstFreq(filename):\n",
    "    with open(filename,'r') as f:\n",
    "        fhigh = f.read()\n",
    "        li = list(map(int,fhigh.split()))\n",
    "        count = 0\n",
    "        for i in li:\n",
    "            if i == max(li):\n",
    "                count+=1\n",
    "        print(max(li),\":\",count)\n",
    "        \n",
    "    #return\n",
    "    \n",
    "#filename=\"DataFiles/marks.txt\"\n",
    "\n",
    "highstFreq(\"DataFiles/marks.txt\")\n",
    "\n",
    "    \n",
    "    \n",
    "    \n",
    "    \n",
    "    #for i in fhigh:\n",
    "        #if i == fhigh.split().count(max(fhigh.split())):\n",
    "           # print(\"yes\")\n",
    "    #print(type(fhigh))\n",
    "#         count=0\n",
    "#         for i in fhigh:\n",
    "#             #print(i,end=\" \")\n",
    "#             if i == max(count.fhigh):\n",
    "#                 count+=1\n",
    "                \n",
    "        #print(max(fhigh.split()),\":\",fhigh.count(max(fhigh.split())))\n",
    "    #return\n",
    "#highstFreq()  "
   ]
  },
  {
   "cell_type": "code",
   "execution_count": 4,
   "metadata": {},
   "outputs": [
    {
     "name": "stdout",
     "output_type": "stream",
     "text": [
      "0 : 15\n"
     ]
    }
   ],
   "source": [
    "def lowestFreq():\n",
    "    with open('DataFiles/marks.txt','r') as f:\n",
    "        flow = f.read()\n",
    "        li = list(map(int,flow.split()))\n",
    "        count = 0\n",
    "        for i in li:\n",
    "            if i == min(li):\n",
    "                count+=1\n",
    "        print(min(li),\":\",count)\n",
    "    #return\n",
    "lowestFreq()"
   ]
  },
  {
   "cell_type": "code",
   "execution_count": null,
   "metadata": {},
   "outputs": [],
   "source": []
  },
  {
   "cell_type": "code",
   "execution_count": null,
   "metadata": {},
   "outputs": [],
   "source": []
  },
  {
   "cell_type": "code",
   "execution_count": null,
   "metadata": {},
   "outputs": [],
   "source": []
  },
  {
   "cell_type": "code",
   "execution_count": null,
   "metadata": {},
   "outputs": [],
   "source": []
  },
  {
   "cell_type": "code",
   "execution_count": null,
   "metadata": {},
   "outputs": [],
   "source": []
  },
  {
   "cell_type": "code",
   "execution_count": null,
   "metadata": {},
   "outputs": [],
   "source": []
  },
  {
   "cell_type": "code",
   "execution_count": null,
   "metadata": {},
   "outputs": [],
   "source": []
  },
  {
   "cell_type": "code",
   "execution_count": null,
   "metadata": {},
   "outputs": [],
   "source": []
  },
  {
   "cell_type": "code",
   "execution_count": null,
   "metadata": {},
   "outputs": [],
   "source": []
  },
  {
   "cell_type": "code",
   "execution_count": null,
   "metadata": {},
   "outputs": [],
   "source": []
  },
  {
   "cell_type": "code",
   "execution_count": null,
   "metadata": {},
   "outputs": [],
   "source": []
  },
  {
   "cell_type": "code",
   "execution_count": null,
   "metadata": {},
   "outputs": [],
   "source": []
  },
  {
   "cell_type": "code",
   "execution_count": null,
   "metadata": {},
   "outputs": [],
   "source": []
  },
  {
   "cell_type": "code",
   "execution_count": null,
   "metadata": {},
   "outputs": [],
   "source": []
  }
 ],
 "metadata": {
  "kernelspec": {
   "display_name": "Python 3",
   "language": "python",
   "name": "python3"
  },
  "language_info": {
   "codemirror_mode": {
    "name": "ipython",
    "version": 3
   },
   "file_extension": ".py",
   "mimetype": "text/x-python",
   "name": "python",
   "nbconvert_exporter": "python",
   "pygments_lexer": "ipython3",
   "version": "3.7.3"
  }
 },
 "nbformat": 4,
 "nbformat_minor": 2
}
